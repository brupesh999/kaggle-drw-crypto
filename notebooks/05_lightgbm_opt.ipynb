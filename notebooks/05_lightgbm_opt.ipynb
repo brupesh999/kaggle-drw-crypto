{
 "cells": [
  {
   "cell_type": "code",
   "execution_count": 1,
   "id": "f4ae23bd",
   "metadata": {},
   "outputs": [
    {
     "name": "stderr",
     "output_type": "stream",
     "text": [
      "/home/brupesh/.local/lib/python3.10/site-packages/tqdm/auto.py:21: TqdmWarning: IProgress not found. Please update jupyter and ipywidgets. See https://ipywidgets.readthedocs.io/en/stable/user_install.html\n",
      "  from .autonotebook import tqdm as notebook_tqdm\n",
      "/usr/lib/python3/dist-packages/requests/__init__.py:87: RequestsDependencyWarning: urllib3 (2.4.0) or chardet (4.0.0) doesn't match a supported version!\n",
      "  warnings.warn(\"urllib3 ({}) or chardet ({}) doesn't match a supported \"\n"
     ]
    }
   ],
   "source": [
    "import os\n",
    "import pandas as pd\n",
    "import lightgbm as lgb\n",
    "import optuna\n",
    "from optuna.integration.wandb import WeightsAndBiasesCallback\n",
    "import wandb\n",
    "import numpy as np\n",
    "from sklearn.model_selection import train_test_split\n",
    "from sklearn.metrics import roc_auc_score, root_mean_squared_error, r2_score\n",
    "from dotenv import load_dotenv\n",
    "import matplotlib.pyplot as plt"
   ]
  },
  {
   "cell_type": "code",
   "execution_count": 2,
   "id": "f9ba63c4",
   "metadata": {},
   "outputs": [
    {
     "name": "stderr",
     "output_type": "stream",
     "text": [
      "\u001b[34m\u001b[1mwandb\u001b[0m: \u001b[33mWARNING\u001b[0m If you're specifying your api key in code, ensure this code is not shared publicly.\n",
      "\u001b[34m\u001b[1mwandb\u001b[0m: \u001b[33mWARNING\u001b[0m Consider setting the WANDB_API_KEY environment variable, or running `wandb login` from the command line.\n",
      "\u001b[34m\u001b[1mwandb\u001b[0m: Appending key for api.wandb.ai to your netrc file: /home/brupesh/.netrc\n",
      "\u001b[34m\u001b[1mwandb\u001b[0m: Currently logged in as: \u001b[33mbrupeshmit\u001b[0m (\u001b[33mbrupeshmit-massachusetts-institute-of-technology\u001b[0m) to \u001b[32mhttps://api.wandb.ai\u001b[0m. Use \u001b[1m`wandb login --relogin`\u001b[0m to force relogin\n"
     ]
    },
    {
     "data": {
      "text/plain": [
       "True"
      ]
     },
     "execution_count": 2,
     "metadata": {},
     "output_type": "execute_result"
    }
   ],
   "source": [
    "load_dotenv()\n",
    "os.environ[\"WANDB_API_KEY\"] = os.getenv(\"WANDB_API_KEY\")\n",
    "os.environ[\"WANDB_DIR\"] = \"../data/wandb_logs\"\n",
    "wandb.login(key=os.environ[\"WANDB_API_KEY\"])"
   ]
  },
  {
   "cell_type": "code",
   "execution_count": null,
   "id": "cc8356c9",
   "metadata": {},
   "outputs": [],
   "source": [
    "train = pd.read_parquet(\"../data/train_clean_v2.parquet\")\n",
    "test = pd.read_parquet(\"../data/test_clean_v2.parquet\")\n",
    "target_col = \"label\"\n",
    "y = train[target_col]\n",
    "X = train.drop(columns=[target_col])\n",
    "\n",
    "test_ids = test.iloc[:, 0]\n",
    "test = test.drop(columns=[test.columns[0]])\n",
    "\n",
    "feature_df = pd.read_csv(\"../data/lgbm_feature_importance.csv\")\n",
    "top_features = feature_df.sort_values(by=\"importance\", ascending=False)[\"feature\"].iloc[:400].tolist()\n",
    "X = X[top_features]\n",
    "test = test[top_features]\n",
    "\n",
    "X_train, X_val, y_train, y_val = train_test_split(X, y, test_size=0.5, random_state=42)\n",
    "dtrain = lgb.Dataset(X_train, label=y_train)\n",
    "dval = lgb.Dataset(X_val, label=y_val)"
   ]
  },
  {
   "cell_type": "code",
   "execution_count": 15,
   "id": "814d53b7",
   "metadata": {},
   "outputs": [
    {
     "name": "stderr",
     "output_type": "stream",
     "text": [
      "[I 2025-06-15 22:13:40,528] A new study created in memory with name: no-name-c3038646-5122-495b-8f18-344de253420b\n",
      "/tmp/ipykernel_18869/510708740.py:56: ExperimentalWarning: WeightsAndBiasesCallback is experimental (supported from v2.9.0). The interface can change in the future.\n",
      "  study.optimize(objective, n_trials=30, callbacks=[WeightsAndBiasesCallback()])\n"
     ]
    },
    {
     "data": {
      "text/html": [
       "Finishing previous runs because reinit is set to 'default'."
      ],
      "text/plain": [
       "<IPython.core.display.HTML object>"
      ]
     },
     "metadata": {},
     "output_type": "display_data"
    },
    {
     "data": {
      "text/html": [],
      "text/plain": [
       "<IPython.core.display.HTML object>"
      ]
     },
     "metadata": {},
     "output_type": "display_data"
    },
    {
     "data": {
      "text/html": [
       "<br>    <style><br>        .wandb-row {<br>            display: flex;<br>            flex-direction: row;<br>            flex-wrap: wrap;<br>            justify-content: flex-start;<br>            width: 100%;<br>        }<br>        .wandb-col {<br>            display: flex;<br>            flex-direction: column;<br>            flex-basis: 100%;<br>            flex: 1;<br>            padding: 10px;<br>        }<br>    </style><br><div class=\"wandb-row\"><div class=\"wandb-col\"><h3>Run summary:</h3><br/><table class=\"wandb\"><tr><td>error</td><td>got an unexpected ke...</td></tr></table><br/></div></div>"
      ],
      "text/plain": [
       "<IPython.core.display.HTML object>"
      ]
     },
     "metadata": {},
     "output_type": "display_data"
    },
    {
     "data": {
      "text/html": [
       " View run <strong style=\"color:#cdcd00\">absurd-dragon-14</strong> at: <a href='https://wandb.ai/brupeshmit-massachusetts-institute-of-technology/kaggle-drw-crypto-notebooks/runs/uxowr9ni' target=\"_blank\">https://wandb.ai/brupeshmit-massachusetts-institute-of-technology/kaggle-drw-crypto-notebooks/runs/uxowr9ni</a><br> View project at: <a href='https://wandb.ai/brupeshmit-massachusetts-institute-of-technology/kaggle-drw-crypto-notebooks' target=\"_blank\">https://wandb.ai/brupeshmit-massachusetts-institute-of-technology/kaggle-drw-crypto-notebooks</a><br>Synced 5 W&B file(s), 0 media file(s), 0 artifact file(s) and 0 other file(s)"
      ],
      "text/plain": [
       "<IPython.core.display.HTML object>"
      ]
     },
     "metadata": {},
     "output_type": "display_data"
    },
    {
     "data": {
      "text/html": [
       "Find logs at: <code>../data/wandb_logs/wandb/run-20250615_221230-uxowr9ni/logs</code>"
      ],
      "text/plain": [
       "<IPython.core.display.HTML object>"
      ]
     },
     "metadata": {},
     "output_type": "display_data"
    },
    {
     "data": {
      "text/html": [
       "Tracking run with wandb version 0.20.1"
      ],
      "text/plain": [
       "<IPython.core.display.HTML object>"
      ]
     },
     "metadata": {},
     "output_type": "display_data"
    },
    {
     "data": {
      "text/html": [
       "Run data is saved locally in <code>../data/wandb_logs/wandb/run-20250615_221340-r6p2vb1k</code>"
      ],
      "text/plain": [
       "<IPython.core.display.HTML object>"
      ]
     },
     "metadata": {},
     "output_type": "display_data"
    },
    {
     "data": {
      "text/html": [
       "Syncing run <strong><a href='https://wandb.ai/brupeshmit-massachusetts-institute-of-technology/kaggle-drw-crypto-notebooks/runs/r6p2vb1k' target=\"_blank\">sweet-fire-15</a></strong> to <a href='https://wandb.ai/brupeshmit-massachusetts-institute-of-technology/kaggle-drw-crypto-notebooks' target=\"_blank\">Weights & Biases</a> (<a href='https://wandb.me/developer-guide' target=\"_blank\">docs</a>)<br>"
      ],
      "text/plain": [
       "<IPython.core.display.HTML object>"
      ]
     },
     "metadata": {},
     "output_type": "display_data"
    },
    {
     "data": {
      "text/html": [
       " View project at <a href='https://wandb.ai/brupeshmit-massachusetts-institute-of-technology/kaggle-drw-crypto-notebooks' target=\"_blank\">https://wandb.ai/brupeshmit-massachusetts-institute-of-technology/kaggle-drw-crypto-notebooks</a>"
      ],
      "text/plain": [
       "<IPython.core.display.HTML object>"
      ]
     },
     "metadata": {},
     "output_type": "display_data"
    },
    {
     "data": {
      "text/html": [
       " View run at <a href='https://wandb.ai/brupeshmit-massachusetts-institute-of-technology/kaggle-drw-crypto-notebooks/runs/r6p2vb1k' target=\"_blank\">https://wandb.ai/brupeshmit-massachusetts-institute-of-technology/kaggle-drw-crypto-notebooks/runs/r6p2vb1k</a>"
      ],
      "text/plain": [
       "<IPython.core.display.HTML object>"
      ]
     },
     "metadata": {},
     "output_type": "display_data"
    },
    {
     "name": "stdout",
     "output_type": "stream",
     "text": [
      "[100]\tvalid_0's rmse: 1.01827\n",
      "[200]\tvalid_0's rmse: 1.01542\n",
      "[300]\tvalid_0's rmse: 1.0125\n",
      "[400]\tvalid_0's rmse: 1.00971\n"
     ]
    },
    {
     "name": "stderr",
     "output_type": "stream",
     "text": [
      "[I 2025-06-15 22:13:50,130] Trial 0 finished with value: 1.0067197373909311 and parameters: {'boosting_type': 'dart', 'learning_rate': 0.0022052205989138525, 'num_leaves': 223, 'max_depth': 4, 'min_child_samples': 41, 'subsample': 0.7956842513166731, 'colsample_bytree': 0.9919147170610438, 'reg_alpha': 3.6922237808659315e-07, 'reg_lambda': 0.00023403658282525685}. Best is trial 0 with value: 1.0067197373909311.\n"
     ]
    },
    {
     "name": "stdout",
     "output_type": "stream",
     "text": [
      "[500]\tvalid_0's rmse: 1.00672\n",
      "Training until validation scores don't improve for 50 rounds\n",
      "[100]\tvalid_0's rmse: 0.388399\n",
      "[200]\tvalid_0's rmse: 0.266684\n",
      "[300]\tvalid_0's rmse: 0.225553\n",
      "[400]\tvalid_0's rmse: 0.204693\n",
      "[500]\tvalid_0's rmse: 0.19215\n",
      "Did not meet early stopping. Best iteration is:\n",
      "[500]\tvalid_0's rmse: 0.19215\n"
     ]
    },
    {
     "name": "stderr",
     "output_type": "stream",
     "text": [
      "[I 2025-06-15 22:14:04,783] Trial 1 finished with value: 0.19215033162578773 and parameters: {'boosting_type': 'gbdt', 'learning_rate': 0.1761424250699126, 'num_leaves': 352, 'max_depth': 8, 'min_child_samples': 62, 'subsample': 0.6690358107888907, 'colsample_bytree': 0.8890387166761902, 'reg_alpha': 0.11890646516225101, 'reg_lambda': 1.8172510251973717e-06}. Best is trial 1 with value: 0.19215033162578773.\n"
     ]
    },
    {
     "name": "stdout",
     "output_type": "stream",
     "text": [
      "[100]\tvalid_0's rmse: 0.758806\n",
      "[200]\tvalid_0's rmse: 0.650245\n",
      "[300]\tvalid_0's rmse: 0.563858\n",
      "[400]\tvalid_0's rmse: 0.496396\n",
      "[500]\tvalid_0's rmse: 0.436235\n"
     ]
    },
    {
     "name": "stderr",
     "output_type": "stream",
     "text": [
      "[I 2025-06-15 22:15:05,839] Trial 2 finished with value: 0.436234726996688 and parameters: {'boosting_type': 'dart', 'learning_rate': 0.03547703293030054, 'num_leaves': 385, 'max_depth': 11, 'min_child_samples': 21, 'subsample': 0.6841044026895506, 'colsample_bytree': 0.6057848199430937, 'reg_alpha': 0.7208269814024097, 'reg_lambda': 5.904141087276013e-06}. Best is trial 1 with value: 0.19215033162578773.\n"
     ]
    },
    {
     "name": "stdout",
     "output_type": "stream",
     "text": [
      "[100]\tvalid_0's rmse: 1.00906\n",
      "[200]\tvalid_0's rmse: 1.00281\n",
      "[300]\tvalid_0's rmse: 0.995721\n",
      "[400]\tvalid_0's rmse: 0.988807\n"
     ]
    },
    {
     "name": "stderr",
     "output_type": "stream",
     "text": [
      "[I 2025-06-15 22:15:14,175] Trial 3 finished with value: 0.9811445726324756 and parameters: {'boosting_type': 'dart', 'learning_rate': 0.007918497059479859, 'num_leaves': 328, 'max_depth': 4, 'min_child_samples': 64, 'subsample': 0.8454139133874835, 'colsample_bytree': 0.7234913302195982, 'reg_alpha': 1.7446187911500776e-06, 'reg_lambda': 9.799679634772477e-07}. Best is trial 1 with value: 0.19215033162578773.\n"
     ]
    },
    {
     "name": "stdout",
     "output_type": "stream",
     "text": [
      "[500]\tvalid_0's rmse: 0.981145\n",
      "[100]\tvalid_0's rmse: 0.986502\n",
      "[200]\tvalid_0's rmse: 0.96924\n",
      "[300]\tvalid_0's rmse: 0.950798\n",
      "[400]\tvalid_0's rmse: 0.933984\n"
     ]
    },
    {
     "name": "stderr",
     "output_type": "stream",
     "text": [
      "[I 2025-06-15 22:15:25,540] Trial 4 finished with value: 0.9162763456987417 and parameters: {'boosting_type': 'dart', 'learning_rate': 0.015770294263956288, 'num_leaves': 19, 'max_depth': 10, 'min_child_samples': 91, 'subsample': 0.9884650158797841, 'colsample_bytree': 0.5369419386111403, 'reg_alpha': 1.7751777060747857e-08, 'reg_lambda': 0.24450623960260423}. Best is trial 1 with value: 0.19215033162578773.\n"
     ]
    },
    {
     "name": "stdout",
     "output_type": "stream",
     "text": [
      "[500]\tvalid_0's rmse: 0.916276\n",
      "[100]\tvalid_0's rmse: 1.01846\n",
      "[200]\tvalid_0's rmse: 1.01551\n",
      "[300]\tvalid_0's rmse: 1.01225\n",
      "[400]\tvalid_0's rmse: 1.00915\n"
     ]
    },
    {
     "name": "stderr",
     "output_type": "stream",
     "text": [
      "[I 2025-06-15 22:15:34,068] Trial 5 finished with value: 1.0058809168989744 and parameters: {'boosting_type': 'dart', 'learning_rate': 0.002320611914975612, 'num_leaves': 152, 'max_depth': 4, 'min_child_samples': 7, 'subsample': 0.7060660786056204, 'colsample_bytree': 0.5237902872837814, 'reg_alpha': 0.01555308167864501, 'reg_lambda': 0.20344617591208747}. Best is trial 1 with value: 0.19215033162578773.\n"
     ]
    },
    {
     "name": "stdout",
     "output_type": "stream",
     "text": [
      "[500]\tvalid_0's rmse: 1.00588\n",
      "[100]\tvalid_0's rmse: 0.611507\n",
      "[200]\tvalid_0's rmse: 0.507629\n",
      "[300]\tvalid_0's rmse: 0.416043\n",
      "[400]\tvalid_0's rmse: 0.354049\n",
      "[500]\tvalid_0's rmse: 0.301134\n"
     ]
    },
    {
     "name": "stderr",
     "output_type": "stream",
     "text": [
      "[I 2025-06-15 22:16:15,974] Trial 6 finished with value: 0.3011342562215197 and parameters: {'boosting_type': 'dart', 'learning_rate': 0.10558864433153402, 'num_leaves': 449, 'max_depth': 9, 'min_child_samples': 26, 'subsample': 0.6419885318759744, 'colsample_bytree': 0.7968538358737631, 'reg_alpha': 0.010076838231508903, 'reg_lambda': 0.0003222034501705032}. Best is trial 1 with value: 0.19215033162578773.\n"
     ]
    },
    {
     "name": "stdout",
     "output_type": "stream",
     "text": [
      "[100]\tvalid_0's rmse: 0.94855\n",
      "[200]\tvalid_0's rmse: 0.908361\n",
      "[300]\tvalid_0's rmse: 0.860976\n",
      "[400]\tvalid_0's rmse: 0.817881\n",
      "[500]\tvalid_0's rmse: 0.773403\n"
     ]
    },
    {
     "name": "stderr",
     "output_type": "stream",
     "text": [
      "[I 2025-06-15 22:16:42,883] Trial 7 finished with value: 0.7734025399267552 and parameters: {'boosting_type': 'dart', 'learning_rate': 0.015674725030516326, 'num_leaves': 282, 'max_depth': 8, 'min_child_samples': 33, 'subsample': 0.9426527228884117, 'colsample_bytree': 0.8804543480919235, 'reg_alpha': 3.3715483258994458e-06, 'reg_lambda': 0.9543388485509298}. Best is trial 1 with value: 0.19215033162578773.\n"
     ]
    },
    {
     "name": "stdout",
     "output_type": "stream",
     "text": [
      "Training until validation scores don't improve for 50 rounds\n",
      "[100]\tvalid_0's rmse: 1.01221\n",
      "[200]\tvalid_0's rmse: 1.00279\n",
      "[300]\tvalid_0's rmse: 0.993633\n",
      "[400]\tvalid_0's rmse: 0.985402\n"
     ]
    },
    {
     "name": "stderr",
     "output_type": "stream",
     "text": [
      "[I 2025-06-15 22:16:47,385] Trial 8 finished with value: 0.9770989229044964 and parameters: {'boosting_type': 'gbdt', 'learning_rate': 0.0014702966775802001, 'num_leaves': 43, 'max_depth': 6, 'min_child_samples': 98, 'subsample': 0.5676294128319765, 'colsample_bytree': 0.8607849318792424, 'reg_alpha': 0.019593188365472424, 'reg_lambda': 3.862704760216094e-05}. Best is trial 1 with value: 0.19215033162578773.\n"
     ]
    },
    {
     "name": "stdout",
     "output_type": "stream",
     "text": [
      "[500]\tvalid_0's rmse: 0.977099\n",
      "Did not meet early stopping. Best iteration is:\n",
      "[500]\tvalid_0's rmse: 0.977099\n",
      "[100]\tvalid_0's rmse: 0.698879\n",
      "[200]\tvalid_0's rmse: 0.606578\n",
      "[300]\tvalid_0's rmse: 0.523737\n",
      "[400]\tvalid_0's rmse: 0.459788\n"
     ]
    },
    {
     "name": "stderr",
     "output_type": "stream",
     "text": [
      "[I 2025-06-15 22:17:08,904] Trial 9 finished with value: 0.4103423946888955 and parameters: {'boosting_type': 'dart', 'learning_rate': 0.14889792067485913, 'num_leaves': 171, 'max_depth': 7, 'min_child_samples': 82, 'subsample': 0.5698610234941164, 'colsample_bytree': 0.5933966571651723, 'reg_alpha': 0.3860012391123651, 'reg_lambda': 7.803283487459921e-07}. Best is trial 1 with value: 0.19215033162578773.\n"
     ]
    },
    {
     "name": "stdout",
     "output_type": "stream",
     "text": [
      "[500]\tvalid_0's rmse: 0.410342\n",
      "Training until validation scores don't improve for 50 rounds\n",
      "[100]\tvalid_0's rmse: 0.458991\n",
      "[200]\tvalid_0's rmse: 0.298756\n",
      "[300]\tvalid_0's rmse: 0.236002\n",
      "[400]\tvalid_0's rmse: 0.204983\n",
      "[500]\tvalid_0's rmse: 0.186838\n",
      "Did not meet early stopping. Best iteration is:\n",
      "[500]\tvalid_0's rmse: 0.186838\n"
     ]
    },
    {
     "name": "stderr",
     "output_type": "stream",
     "text": [
      "[I 2025-06-15 22:17:56,408] Trial 10 finished with value: 0.18683756101964935 and parameters: {'boosting_type': 'gbdt', 'learning_rate': 0.0442655565550375, 'num_leaves': 482, 'max_depth': 12, 'min_child_samples': 61, 'subsample': 0.5035287474101011, 'colsample_bytree': 0.9708322151323201, 'reg_alpha': 0.00018042161158002726, 'reg_lambda': 1.65497138000538e-08}. Best is trial 10 with value: 0.18683756101964935.\n"
     ]
    },
    {
     "name": "stdout",
     "output_type": "stream",
     "text": [
      "Training until validation scores don't improve for 50 rounds\n",
      "[100]\tvalid_0's rmse: 0.398888\n",
      "[200]\tvalid_0's rmse: 0.258495\n",
      "[300]\tvalid_0's rmse: 0.209924\n",
      "[400]\tvalid_0's rmse: 0.18701\n",
      "[500]\tvalid_0's rmse: 0.174156\n",
      "Did not meet early stopping. Best iteration is:\n",
      "[500]\tvalid_0's rmse: 0.174156\n"
     ]
    },
    {
     "name": "stderr",
     "output_type": "stream",
     "text": [
      "[I 2025-06-15 22:18:43,298] Trial 11 finished with value: 0.17415565597035348 and parameters: {'boosting_type': 'gbdt', 'learning_rate': 0.05637605658622098, 'num_leaves': 491, 'max_depth': 12, 'min_child_samples': 60, 'subsample': 0.5010360876951431, 'colsample_bytree': 0.9956730022573157, 'reg_alpha': 0.00019733396659178513, 'reg_lambda': 1.776984300319451e-08}. Best is trial 11 with value: 0.17415565597035348.\n"
     ]
    },
    {
     "name": "stdout",
     "output_type": "stream",
     "text": [
      "Training until validation scores don't improve for 50 rounds\n",
      "[100]\tvalid_0's rmse: 0.419863\n",
      "[200]\tvalid_0's rmse: 0.271171\n",
      "[300]\tvalid_0's rmse: 0.216863\n",
      "[400]\tvalid_0's rmse: 0.191485\n",
      "[500]\tvalid_0's rmse: 0.176902\n",
      "Did not meet early stopping. Best iteration is:\n",
      "[500]\tvalid_0's rmse: 0.176902\n"
     ]
    },
    {
     "name": "stderr",
     "output_type": "stream",
     "text": [
      "[I 2025-06-15 22:19:33,346] Trial 12 finished with value: 0.17690215914673663 and parameters: {'boosting_type': 'gbdt', 'learning_rate': 0.050275367692297, 'num_leaves': 507, 'max_depth': 12, 'min_child_samples': 52, 'subsample': 0.5030541612852352, 'colsample_bytree': 0.9943356452895835, 'reg_alpha': 0.00017644172829240777, 'reg_lambda': 3.9277331673178056e-08}. Best is trial 11 with value: 0.17415565597035348.\n"
     ]
    },
    {
     "name": "stdout",
     "output_type": "stream",
     "text": [
      "Training until validation scores don't improve for 50 rounds\n",
      "[100]\tvalid_0's rmse: 0.40947\n",
      "[200]\tvalid_0's rmse: 0.266529\n",
      "[300]\tvalid_0's rmse: 0.214296\n",
      "[400]\tvalid_0's rmse: 0.189854\n",
      "[500]\tvalid_0's rmse: 0.175697\n",
      "Did not meet early stopping. Best iteration is:\n",
      "[500]\tvalid_0's rmse: 0.175697\n"
     ]
    },
    {
     "name": "stderr",
     "output_type": "stream",
     "text": [
      "[I 2025-06-15 22:20:17,794] Trial 13 finished with value: 0.1756974270441457 and parameters: {'boosting_type': 'gbdt', 'learning_rate': 0.05236594959039163, 'num_leaves': 484, 'max_depth': 12, 'min_child_samples': 50, 'subsample': 0.5129167198205107, 'colsample_bytree': 0.9971726121563192, 'reg_alpha': 0.00020663419826428354, 'reg_lambda': 1.051353905903877e-08}. Best is trial 11 with value: 0.17415565597035348.\n"
     ]
    },
    {
     "name": "stdout",
     "output_type": "stream",
     "text": [
      "Training until validation scores don't improve for 50 rounds\n",
      "[100]\tvalid_0's rmse: 0.457731\n",
      "[200]\tvalid_0's rmse: 0.299435\n",
      "[300]\tvalid_0's rmse: 0.2383\n",
      "[400]\tvalid_0's rmse: 0.20703\n",
      "[500]\tvalid_0's rmse: 0.188233\n",
      "Did not meet early stopping. Best iteration is:\n",
      "[500]\tvalid_0's rmse: 0.188233\n"
     ]
    },
    {
     "name": "stderr",
     "output_type": "stream",
     "text": [
      "[I 2025-06-15 22:20:42,192] Trial 14 finished with value: 0.18823317364229358 and parameters: {'boosting_type': 'gbdt', 'learning_rate': 0.06687169253850515, 'num_leaves': 419, 'max_depth': 10, 'min_child_samples': 77, 'subsample': 0.590346205316119, 'colsample_bytree': 0.922879785827494, 'reg_alpha': 2.9241913231805888e-05, 'reg_lambda': 1.2036057428076404e-08}. Best is trial 11 with value: 0.17415565597035348.\n"
     ]
    },
    {
     "name": "stdout",
     "output_type": "stream",
     "text": [
      "Training until validation scores don't improve for 50 rounds\n",
      "[100]\tvalid_0's rmse: 0.6435\n",
      "[200]\tvalid_0's rmse: 0.462444\n",
      "[300]\tvalid_0's rmse: 0.359117\n",
      "[400]\tvalid_0's rmse: 0.296375\n",
      "[500]\tvalid_0's rmse: 0.256534\n",
      "Did not meet early stopping. Best iteration is:\n",
      "[500]\tvalid_0's rmse: 0.256534\n"
     ]
    },
    {
     "name": "stderr",
     "output_type": "stream",
     "text": [
      "[I 2025-06-15 22:21:25,193] Trial 15 finished with value: 0.2565337689401356 and parameters: {'boosting_type': 'gbdt', 'learning_rate': 0.020952594424242996, 'num_leaves': 507, 'max_depth': 12, 'min_child_samples': 46, 'subsample': 0.6033795003347999, 'colsample_bytree': 0.7765257503578858, 'reg_alpha': 0.0031274213185539376, 'reg_lambda': 0.005307350553763758}. Best is trial 11 with value: 0.17415565597035348.\n"
     ]
    },
    {
     "name": "stdout",
     "output_type": "stream",
     "text": [
      "Training until validation scores don't improve for 50 rounds\n",
      "[100]\tvalid_0's rmse: 0.933184\n",
      "[200]\tvalid_0's rmse: 0.854923\n",
      "[300]\tvalid_0's rmse: 0.781902\n",
      "[400]\tvalid_0's rmse: 0.715812\n",
      "[500]\tvalid_0's rmse: 0.668362\n",
      "Did not meet early stopping. Best iteration is:\n",
      "[500]\tvalid_0's rmse: 0.668362\n"
     ]
    },
    {
     "name": "stderr",
     "output_type": "stream",
     "text": [
      "[I 2025-06-15 22:21:43,906] Trial 16 finished with value: 0.6683620148089632 and parameters: {'boosting_type': 'gbdt', 'learning_rate': 0.005770822026502511, 'num_leaves': 423, 'max_depth': 10, 'min_child_samples': 72, 'subsample': 0.7509336617192753, 'colsample_bytree': 0.709571756008881, 'reg_alpha': 8.891481029651143, 'reg_lambda': 1.0455270224501753e-07}. Best is trial 11 with value: 0.17415565597035348.\n"
     ]
    },
    {
     "name": "stdout",
     "output_type": "stream",
     "text": [
      "Training until validation scores don't improve for 50 rounds\n",
      "[100]\tvalid_0's rmse: 0.355102\n",
      "[200]\tvalid_0's rmse: 0.242559\n",
      "[300]\tvalid_0's rmse: 0.200577\n",
      "[400]\tvalid_0's rmse: 0.180969\n",
      "[500]\tvalid_0's rmse: 0.17019\n",
      "Did not meet early stopping. Best iteration is:\n",
      "[500]\tvalid_0's rmse: 0.17019\n"
     ]
    },
    {
     "name": "stderr",
     "output_type": "stream",
     "text": [
      "[I 2025-06-15 22:22:12,480] Trial 17 finished with value: 0.1701903830846505 and parameters: {'boosting_type': 'gbdt', 'learning_rate': 0.08702269041610317, 'num_leaves': 309, 'max_depth': 11, 'min_child_samples': 38, 'subsample': 0.5363433742028613, 'colsample_bytree': 0.825795069227396, 'reg_alpha': 0.0005366835743641939, 'reg_lambda': 0.007948022575389735}. Best is trial 17 with value: 0.1701903830846505.\n"
     ]
    },
    {
     "name": "stdout",
     "output_type": "stream",
     "text": [
      "Training until validation scores don't improve for 50 rounds\n",
      "[100]\tvalid_0's rmse: 0.348404\n",
      "[200]\tvalid_0's rmse: 0.237193\n",
      "[300]\tvalid_0's rmse: 0.196251\n",
      "[400]\tvalid_0's rmse: 0.177095\n",
      "[500]\tvalid_0's rmse: 0.166253\n",
      "Did not meet early stopping. Best iteration is:\n",
      "[500]\tvalid_0's rmse: 0.166253\n"
     ]
    },
    {
     "name": "stderr",
     "output_type": "stream",
     "text": [
      "[I 2025-06-15 22:22:42,901] Trial 18 finished with value: 0.166253008133762 and parameters: {'boosting_type': 'gbdt', 'learning_rate': 0.0906905894767821, 'num_leaves': 285, 'max_depth': 11, 'min_child_samples': 12, 'subsample': 0.860877449936374, 'colsample_bytree': 0.6735490198801499, 'reg_alpha': 0.0018023647663252622, 'reg_lambda': 0.007347475838302862}. Best is trial 18 with value: 0.166253008133762.\n"
     ]
    },
    {
     "name": "stdout",
     "output_type": "stream",
     "text": [
      "Training until validation scores don't improve for 50 rounds\n",
      "[100]\tvalid_0's rmse: 0.674234\n",
      "[200]\tvalid_0's rmse: 0.530452\n",
      "[300]\tvalid_0's rmse: 0.442689\n",
      "[400]\tvalid_0's rmse: 0.379003\n"
     ]
    },
    {
     "name": "stderr",
     "output_type": "stream",
     "text": [
      "[I 2025-06-15 22:22:49,263] Trial 19 finished with value: 0.3352550266780232 and parameters: {'boosting_type': 'gbdt', 'learning_rate': 0.09511367189819236, 'num_leaves': 288, 'max_depth': 6, 'min_child_samples': 10, 'subsample': 0.8830229613121818, 'colsample_bytree': 0.6692662415351018, 'reg_alpha': 0.002247748471051735, 'reg_lambda': 0.01729379686008816}. Best is trial 18 with value: 0.166253008133762.\n"
     ]
    },
    {
     "name": "stdout",
     "output_type": "stream",
     "text": [
      "[500]\tvalid_0's rmse: 0.335255\n",
      "Did not meet early stopping. Best iteration is:\n",
      "[500]\tvalid_0's rmse: 0.335255\n",
      "Training until validation scores don't improve for 50 rounds\n",
      "[100]\tvalid_0's rmse: 0.689591\n",
      "[200]\tvalid_0's rmse: 0.535419\n",
      "[300]\tvalid_0's rmse: 0.434773\n",
      "[400]\tvalid_0's rmse: 0.367876\n",
      "[500]\tvalid_0's rmse: 0.319961\n",
      "Did not meet early stopping. Best iteration is:\n",
      "[500]\tvalid_0's rmse: 0.319961\n"
     ]
    },
    {
     "name": "stderr",
     "output_type": "stream",
     "text": [
      "[I 2025-06-15 22:23:11,324] Trial 20 finished with value: 0.3199605936372025 and parameters: {'boosting_type': 'gbdt', 'learning_rate': 0.029473075369289527, 'num_leaves': 233, 'max_depth': 9, 'min_child_samples': 18, 'subsample': 0.8663631883660109, 'colsample_bytree': 0.8170209381969509, 'reg_alpha': 1.4744212698425243e-05, 'reg_lambda': 0.00775739374460973}. Best is trial 18 with value: 0.166253008133762.\n"
     ]
    },
    {
     "name": "stdout",
     "output_type": "stream",
     "text": [
      "Training until validation scores don't improve for 50 rounds\n",
      "[100]\tvalid_0's rmse: 0.513833\n",
      "[200]\tvalid_0's rmse: 0.377495\n",
      "[300]\tvalid_0's rmse: 0.309548\n",
      "[400]\tvalid_0's rmse: 0.268289\n"
     ]
    },
    {
     "name": "stderr",
     "output_type": "stream",
     "text": [
      "[I 2025-06-15 22:23:23,686] Trial 21 finished with value: 0.24058912149630401 and parameters: {'boosting_type': 'gbdt', 'learning_rate': 0.08580298792605033, 'num_leaves': 101, 'max_depth': 11, 'min_child_samples': 37, 'subsample': 0.7852171659472599, 'colsample_bytree': 0.65127517692032, 'reg_alpha': 0.0013206292454162902, 'reg_lambda': 6.7761086510865285}. Best is trial 18 with value: 0.166253008133762.\n"
     ]
    },
    {
     "name": "stdout",
     "output_type": "stream",
     "text": [
      "[500]\tvalid_0's rmse: 0.240589\n",
      "Did not meet early stopping. Best iteration is:\n",
      "[500]\tvalid_0's rmse: 0.240589\n",
      "Training until validation scores don't improve for 50 rounds\n",
      "[100]\tvalid_0's rmse: 0.240377\n",
      "[200]\tvalid_0's rmse: 0.19246\n",
      "[300]\tvalid_0's rmse: 0.178057\n",
      "[400]\tvalid_0's rmse: 0.171404\n",
      "[500]\tvalid_0's rmse: 0.167293\n",
      "Did not meet early stopping. Best iteration is:\n",
      "[500]\tvalid_0's rmse: 0.167293\n"
     ]
    },
    {
     "name": "stderr",
     "output_type": "stream",
     "text": [
      "[I 2025-06-15 22:23:53,800] Trial 22 finished with value: 0.1672929514052507 and parameters: {'boosting_type': 'gbdt', 'learning_rate': 0.1962032533713715, 'num_leaves': 328, 'max_depth': 11, 'min_child_samples': 31, 'subsample': 0.5525727742536882, 'colsample_bytree': 0.8304683393846646, 'reg_alpha': 2.7560551352056035e-05, 'reg_lambda': 0.0010421787464643122}. Best is trial 18 with value: 0.166253008133762.\n"
     ]
    },
    {
     "name": "stdout",
     "output_type": "stream",
     "text": [
      "Training until validation scores don't improve for 50 rounds\n",
      "[100]\tvalid_0's rmse: 0.241187\n",
      "[200]\tvalid_0's rmse: 0.193333\n",
      "[300]\tvalid_0's rmse: 0.179376\n",
      "[400]\tvalid_0's rmse: 0.172804\n",
      "[500]\tvalid_0's rmse: 0.169037\n",
      "Did not meet early stopping. Best iteration is:\n",
      "[500]\tvalid_0's rmse: 0.169037\n"
     ]
    },
    {
     "name": "stderr",
     "output_type": "stream",
     "text": [
      "[I 2025-06-15 22:24:23,851] Trial 23 finished with value: 0.16903744013736172 and parameters: {'boosting_type': 'gbdt', 'learning_rate': 0.1986983189037716, 'num_leaves': 327, 'max_depth': 11, 'min_child_samples': 29, 'subsample': 0.9173094914339249, 'colsample_bytree': 0.8328338477306981, 'reg_alpha': 3.885136966075228e-05, 'reg_lambda': 0.001155816480207513}. Best is trial 18 with value: 0.166253008133762.\n"
     ]
    },
    {
     "name": "stdout",
     "output_type": "stream",
     "text": [
      "Training until validation scores don't improve for 50 rounds\n",
      "[100]\tvalid_0's rmse: 0.286231\n",
      "[200]\tvalid_0's rmse: 0.210307\n",
      "[300]\tvalid_0's rmse: 0.18691\n",
      "[400]\tvalid_0's rmse: 0.17585\n",
      "[500]\tvalid_0's rmse: 0.169816\n",
      "Did not meet early stopping. Best iteration is:\n",
      "[500]\tvalid_0's rmse: 0.169816\n"
     ]
    },
    {
     "name": "stderr",
     "output_type": "stream",
     "text": [
      "[I 2025-06-15 22:24:44,842] Trial 24 finished with value: 0.16981598054390773 and parameters: {'boosting_type': 'gbdt', 'learning_rate': 0.1832622878407925, 'num_leaves': 358, 'max_depth': 9, 'min_child_samples': 28, 'subsample': 0.9190325501062326, 'colsample_bytree': 0.7415706278868252, 'reg_alpha': 2.3460020607419124e-05, 'reg_lambda': 0.0006424453095824291}. Best is trial 18 with value: 0.166253008133762.\n"
     ]
    },
    {
     "name": "stdout",
     "output_type": "stream",
     "text": [
      "Training until validation scores don't improve for 50 rounds\n",
      "[100]\tvalid_0's rmse: 0.300506\n",
      "[200]\tvalid_0's rmse: 0.216221\n",
      "[300]\tvalid_0's rmse: 0.186852\n",
      "[400]\tvalid_0's rmse: 0.17226\n",
      "[500]\tvalid_0's rmse: 0.164392\n",
      "Did not meet early stopping. Best iteration is:\n",
      "[500]\tvalid_0's rmse: 0.164392\n"
     ]
    },
    {
     "name": "stderr",
     "output_type": "stream",
     "text": [
      "[I 2025-06-15 22:25:09,790] Trial 25 finished with value: 0.16439155452148407 and parameters: {'boosting_type': 'gbdt', 'learning_rate': 0.13391504838227442, 'num_leaves': 242, 'max_depth': 11, 'min_child_samples': 15, 'subsample': 0.8103913798475878, 'colsample_bytree': 0.7633005751835771, 'reg_alpha': 1.4310064470041852e-07, 'reg_lambda': 0.0011779585848832991}. Best is trial 25 with value: 0.16439155452148407.\n"
     ]
    },
    {
     "name": "stdout",
     "output_type": "stream",
     "text": [
      "Training until validation scores don't improve for 50 rounds\n",
      "[100]\tvalid_0's rmse: 0.331572\n",
      "[200]\tvalid_0's rmse: 0.226771\n",
      "[300]\tvalid_0's rmse: 0.191421\n",
      "[400]\tvalid_0's rmse: 0.174546\n",
      "[500]\tvalid_0's rmse: 0.164455\n",
      "Did not meet early stopping. Best iteration is:\n",
      "[500]\tvalid_0's rmse: 0.164455\n"
     ]
    },
    {
     "name": "stderr",
     "output_type": "stream",
     "text": [
      "[I 2025-06-15 22:25:33,085] Trial 26 finished with value: 0.16445480397573614 and parameters: {'boosting_type': 'gbdt', 'learning_rate': 0.12104748750470924, 'num_leaves': 239, 'max_depth': 10, 'min_child_samples': 15, 'subsample': 0.820297683110415, 'colsample_bytree': 0.6821629665180433, 'reg_alpha': 2.2731153703306626e-08, 'reg_lambda': 3.426363240536906e-05}. Best is trial 25 with value: 0.16439155452148407.\n"
     ]
    },
    {
     "name": "stdout",
     "output_type": "stream",
     "text": [
      "Training until validation scores don't improve for 50 rounds\n",
      "[100]\tvalid_0's rmse: 0.331842\n",
      "[200]\tvalid_0's rmse: 0.22918\n",
      "[300]\tvalid_0's rmse: 0.194144\n",
      "[400]\tvalid_0's rmse: 0.177164\n",
      "[500]\tvalid_0's rmse: 0.167527\n",
      "Did not meet early stopping. Best iteration is:\n",
      "[500]\tvalid_0's rmse: 0.167527\n"
     ]
    },
    {
     "name": "stderr",
     "output_type": "stream",
     "text": [
      "[I 2025-06-15 22:25:56,164] Trial 27 finished with value: 0.16752715496339976 and parameters: {'boosting_type': 'gbdt', 'learning_rate': 0.1216210872190907, 'num_leaves': 242, 'max_depth': 10, 'min_child_samples': 16, 'subsample': 0.8087414094590983, 'colsample_bytree': 0.6815878769865791, 'reg_alpha': 1.6693672407810182e-08, 'reg_lambda': 4.4301121123123475e-05}. Best is trial 25 with value: 0.16439155452148407.\n"
     ]
    },
    {
     "name": "stdout",
     "output_type": "stream",
     "text": [
      "Training until validation scores don't improve for 50 rounds\n",
      "[100]\tvalid_0's rmse: 0.749003\n",
      "[200]\tvalid_0's rmse: 0.607193\n",
      "[300]\tvalid_0's rmse: 0.511802\n",
      "[400]\tvalid_0's rmse: 0.442226\n",
      "[500]\tvalid_0's rmse: 0.391288\n",
      "Did not meet early stopping. Best iteration is:\n",
      "[500]\tvalid_0's rmse: 0.391288\n"
     ]
    },
    {
     "name": "stderr",
     "output_type": "stream",
     "text": [
      "[I 2025-06-15 22:26:13,653] Trial 28 finished with value: 0.39128818917115965 and parameters: {'boosting_type': 'gbdt', 'learning_rate': 0.02274983188021961, 'num_leaves': 178, 'max_depth': 9, 'min_child_samples': 5, 'subsample': 0.7404429979405185, 'colsample_bytree': 0.6211104705010171, 'reg_alpha': 1.1805374761908769e-07, 'reg_lambda': 4.0634880687554775e-05}. Best is trial 25 with value: 0.16439155452148407.\n"
     ]
    },
    {
     "name": "stdout",
     "output_type": "stream",
     "text": [
      "Training until validation scores don't improve for 50 rounds\n",
      "[100]\tvalid_0's rmse: 0.874631\n",
      "[200]\tvalid_0's rmse: 0.755605\n",
      "[300]\tvalid_0's rmse: 0.672363\n",
      "[400]\tvalid_0's rmse: 0.611517\n",
      "[500]\tvalid_0's rmse: 0.561993\n",
      "Did not meet early stopping. Best iteration is:\n",
      "[500]\tvalid_0's rmse: 0.561993\n"
     ]
    },
    {
     "name": "stderr",
     "output_type": "stream",
     "text": [
      "[I 2025-06-15 22:26:34,904] Trial 29 finished with value: 0.5619932693046067 and parameters: {'boosting_type': 'gbdt', 'learning_rate': 0.009237271183881266, 'num_leaves': 198, 'max_depth': 10, 'min_child_samples': 13, 'subsample': 0.8205044991543983, 'colsample_bytree': 0.7664113394305357, 'reg_alpha': 5.833037824832554e-07, 'reg_lambda': 0.00010229437758048311}. Best is trial 25 with value: 0.16439155452148407.\n"
     ]
    }
   ],
   "source": [
    "def objective(trial):\n",
    "    params = {\n",
    "        \"objective\": \"regression\",\n",
    "        \"metric\": \"rmse\",\n",
    "        \"boosting_type\": trial.suggest_categorical(\"boosting_type\", [\"gbdt\", \"dart\"]),\n",
    "        \"learning_rate\": trial.suggest_float(\"learning_rate\", 1e-3, 0.2, log=True),\n",
    "        \"num_leaves\": trial.suggest_int(\"num_leaves\", 16, 512),\n",
    "        \"max_depth\": trial.suggest_int(\"max_depth\", 3, 12),\n",
    "        \"min_child_samples\": trial.suggest_int(\"min_child_samples\", 5, 100),\n",
    "        \"feature_pre_filter\": False,\n",
    "        \"subsample\": trial.suggest_float(\"subsample\", 0.5, 1.0),\n",
    "        \"colsample_bytree\": trial.suggest_float(\"colsample_bytree\", 0.5, 1.0),\n",
    "        \"reg_alpha\": trial.suggest_float(\"reg_alpha\", 1e-8, 10.0, log=True),\n",
    "        \"reg_lambda\": trial.suggest_float(\"reg_lambda\", 1e-8, 10.0, log=True),\n",
    "        \"device\": \"gpu\",\n",
    "        \"gpu_platform_id\": 0,\n",
    "        \"gpu_device_id\": 0,\n",
    "        \"verbosity\": -1\n",
    "    }\n",
    "\n",
    "    try:\n",
    "        callbacks = [lgb.log_evaluation(100)]\n",
    "        if params[\"boosting_type\"] != \"dart\":\n",
    "            callbacks.append(lgb.early_stopping(50))\n",
    "\n",
    "        model = lgb.train(\n",
    "            params,\n",
    "            dtrain,\n",
    "            num_boost_round=500,\n",
    "            valid_sets=[dval],\n",
    "            callbacks=callbacks\n",
    "        )\n",
    "\n",
    "        preds = model.predict(X_val)\n",
    "\n",
    "        rmse = root_mean_squared_error(y_val, preds)\n",
    "\n",
    "        r2 = r2_score(y_val, preds)\n",
    "        pearson = pd.Series(preds).corr(pd.Series(y_val))\n",
    "\n",
    "        wandb.log({\n",
    "            \"rmse\": rmse,\n",
    "            \"r2\": r2,\n",
    "            \"pearson\": pearson\n",
    "        }, step=trial.number)\n",
    "\n",
    "        return rmse\n",
    "\n",
    "    except Exception as e:\n",
    "        trial.set_user_attr(\"fail_reason\", str(e))\n",
    "        wandb.log({\"error\": str(e)}, step=trial.number)\n",
    "        raise\n",
    "\n",
    "\n",
    "study = optuna.create_study(direction=\"minimize\")\n",
    "study.optimize(objective, n_trials=30, callbacks=[WeightsAndBiasesCallback()])"
   ]
  },
  {
   "cell_type": "code",
   "execution_count": 16,
   "id": "1bc75bab",
   "metadata": {},
   "outputs": [
    {
     "name": "stdout",
     "output_type": "stream",
     "text": [
      "Best trial number: 25\n",
      "Best RMSE: 0.16439155452148407\n",
      "Best trial params:\n",
      "  boosting_type: gbdt\n",
      "  learning_rate: 0.13391504838227442\n",
      "  num_leaves: 242\n",
      "  max_depth: 11\n",
      "  min_child_samples: 15\n",
      "  subsample: 0.8103913798475878\n",
      "  colsample_bytree: 0.7633005751835771\n",
      "  reg_alpha: 1.4310064470041852e-07\n",
      "  reg_lambda: 0.0011779585848832991\n"
     ]
    }
   ],
   "source": [
    "print(f\"Best trial number: {study.best_trial.number}\")\n",
    "print(f\"Best RMSE: {study.best_value}\")\n",
    "print(\"Best trial params:\")\n",
    "for k, v in study.best_trial.params.items():\n",
    "    print(f\"  {k}: {v}\")"
   ]
  },
  {
   "cell_type": "code",
   "execution_count": null,
   "id": "f7f1d3af",
   "metadata": {},
   "outputs": [
    {
     "name": "stdout",
     "output_type": "stream",
     "text": [
      "Training until validation scores don't improve for 50 rounds\n",
      "[100]\tvalid_0's rmse: 0.300522\n",
      "[200]\tvalid_0's rmse: 0.216325\n",
      "[300]\tvalid_0's rmse: 0.187\n",
      "[400]\tvalid_0's rmse: 0.172423\n",
      "[500]\tvalid_0's rmse: 0.164564\n",
      "[600]\tvalid_0's rmse: 0.159373\n",
      "[700]\tvalid_0's rmse: 0.155883\n",
      "[800]\tvalid_0's rmse: 0.153271\n",
      "[900]\tvalid_0's rmse: 0.151295\n",
      "[1000]\tvalid_0's rmse: 0.149602\n",
      "Did not meet early stopping. Best iteration is:\n",
      "[1000]\tvalid_0's rmse: 0.149602\n"
     ]
    },
    {
     "data": {
      "text/plain": [
       "<lightgbm.basic.Booster at 0x7016777078e0>"
      ]
     },
     "execution_count": 19,
     "metadata": {},
     "output_type": "execute_result"
    }
   ],
   "source": [
    "best_params = study.best_trial.params\n",
    "best_params.update({\"objective\": \"regression\", \"metric\": \"rmse\", \"device\": \"gpu\", \"gpu_platform_id\": 0, \"gpu_device_id\": 0})\n",
    "model = lgb.train(\n",
    "    best_params,\n",
    "    dtrain,\n",
    "    num_boost_round=1000,\n",
    "    valid_sets=[dval],\n",
    "    callbacks=[\n",
    "        lgb.early_stopping(50),\n",
    "        lgb.log_evaluation(100)\n",
    "    ]\n",
    ")\n",
    "\n",
    "model.save_model(\"../data/lightgbm_opt_model_1.txt\")"
   ]
  },
  {
   "cell_type": "code",
   "execution_count": null,
   "id": "ef0cdf0f",
   "metadata": {},
   "outputs": [],
   "source": []
  },
  {
   "cell_type": "code",
   "execution_count": null,
   "id": "31fa5889",
   "metadata": {},
   "outputs": [],
   "source": [
    "preds = model.predict(test)\n",
    "pd.DataFrame({\"id\": test_ids, \"prediction\": preds}).to_csv(\"../data/lightgbm_opt1_preds.csv\", index=False)\n",
    "\n",
    "wandb.finish()"
   ]
  },
  {
   "cell_type": "code",
   "execution_count": 8,
   "id": "ccb8e52c",
   "metadata": {},
   "outputs": [
    {
     "name": "stdout",
     "output_type": "stream",
     "text": [
      "\n"
     ]
    }
   ],
   "source": [
    "print()"
   ]
  }
 ],
 "metadata": {
  "kernelspec": {
   "display_name": "Python 3",
   "language": "python",
   "name": "python3"
  },
  "language_info": {
   "codemirror_mode": {
    "name": "ipython",
    "version": 3
   },
   "file_extension": ".py",
   "mimetype": "text/x-python",
   "name": "python",
   "nbconvert_exporter": "python",
   "pygments_lexer": "ipython3",
   "version": "3.10.12"
  }
 },
 "nbformat": 4,
 "nbformat_minor": 5
}
