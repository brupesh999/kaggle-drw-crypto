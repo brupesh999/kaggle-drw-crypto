{
 "cells": [
  {
   "cell_type": "code",
   "execution_count": 6,
   "id": "f4ae23bd",
   "metadata": {},
   "outputs": [],
   "source": [
    "import os\n",
    "import pandas as pd\n",
    "import lightgbm as lgb\n",
    "import optuna\n",
    "from optuna.integration.wandb import WeightsAndBiasesCallback\n",
    "import wandb\n",
    "import numpy as np\n",
    "from sklearn.model_selection import train_test_split\n",
    "from sklearn.metrics import roc_auc_score, root_mean_squared_error, r2_score\n",
    "from dotenv import load_dotenv\n",
    "import matplotlib.pyplot as plt\n",
    "from sklearn.model_selection import TimeSeriesSplit"
   ]
  },
  {
   "cell_type": "code",
   "execution_count": 2,
   "id": "f9ba63c4",
   "metadata": {},
   "outputs": [
    {
     "name": "stderr",
     "output_type": "stream",
     "text": [
      "\u001b[34m\u001b[1mwandb\u001b[0m: \u001b[33mWARNING\u001b[0m If you're specifying your api key in code, ensure this code is not shared publicly.\n",
      "\u001b[34m\u001b[1mwandb\u001b[0m: \u001b[33mWARNING\u001b[0m Consider setting the WANDB_API_KEY environment variable, or running `wandb login` from the command line.\n",
      "\u001b[34m\u001b[1mwandb\u001b[0m: Appending key for api.wandb.ai to your netrc file: /home/brupesh/.netrc\n",
      "\u001b[34m\u001b[1mwandb\u001b[0m: Currently logged in as: \u001b[33mbrupeshmit\u001b[0m (\u001b[33mbrupeshmit-massachusetts-institute-of-technology\u001b[0m) to \u001b[32mhttps://api.wandb.ai\u001b[0m. Use \u001b[1m`wandb login --relogin`\u001b[0m to force relogin\n"
     ]
    },
    {
     "data": {
      "text/plain": [
       "True"
      ]
     },
     "execution_count": 2,
     "metadata": {},
     "output_type": "execute_result"
    }
   ],
   "source": [
    "load_dotenv()\n",
    "os.environ[\"WANDB_API_KEY\"] = os.getenv(\"WANDB_API_KEY\")\n",
    "os.environ[\"WANDB_DIR\"] = \"../data/wandb_logs\"\n",
    "wandb.login(key=os.environ[\"WANDB_API_KEY\"])"
   ]
  },
  {
   "cell_type": "code",
   "execution_count": 3,
   "id": "cc8356c9",
   "metadata": {},
   "outputs": [],
   "source": [
    "train = pd.read_parquet(\"../data/train_clean_v3.parquet\")\n",
    "test = pd.read_parquet(\"../data/test_clean_v3.parquet\")\n",
    "target_col = \"label\"\n",
    "y = train[target_col]\n",
    "X = train.drop(columns=[target_col])\n",
    "\n",
    "test_ids = test.iloc[:, 0]\n",
    "test = test.drop(columns=[test.columns[0]])\n",
    "\n",
    "feature_df = pd.read_csv(\"../data/resources/lgbm_feature_importance.csv\")\n",
    "top_features = feature_df.sort_values(by=\"importance\", ascending=False)[\"feature\"].iloc[:400].tolist()\n",
    "X = X[top_features]\n",
    "test = test[top_features]\n",
    "\n",
    "X_train, X_val, y_train, y_val = train_test_split(X, y, test_size=0.5, random_state=42)\n",
    "dtrain = lgb.Dataset(X_train, label=y_train)\n",
    "dval = lgb.Dataset(X_val, label=y_val)"
   ]
  },
  {
   "cell_type": "code",
   "execution_count": 7,
   "id": "0926e45e",
   "metadata": {},
   "outputs": [],
   "source": [
    "tscv = TimeSeriesSplit(n_splits=5)"
   ]
  },
  {
   "cell_type": "code",
   "execution_count": 8,
   "id": "814d53b7",
   "metadata": {},
   "outputs": [
    {
     "name": "stderr",
     "output_type": "stream",
     "text": [
      "[I 2025-08-14 23:01:05,701] A new study created in memory with name: no-name-e75d5dac-fe5c-4937-bd0c-dbfc1607d144\n",
      "/tmp/ipykernel_36282/2956294688.py:69: ExperimentalWarning: WeightsAndBiasesCallback is experimental (supported from v2.9.0). The interface can change in the future.\n",
      "  study.optimize(objective, n_trials=30, callbacks=[WeightsAndBiasesCallback()])\n"
     ]
    },
    {
     "data": {
      "text/html": [
       "Finishing previous runs because reinit is set to 'default'."
      ],
      "text/plain": [
       "<IPython.core.display.HTML object>"
      ]
     },
     "metadata": {},
     "output_type": "display_data"
    },
    {
     "data": {
      "text/html": [],
      "text/plain": [
       "<IPython.core.display.HTML object>"
      ]
     },
     "metadata": {},
     "output_type": "display_data"
    },
    {
     "data": {
      "text/html": [
       " View run <strong style=\"color:#cdcd00\">copper-pine-22</strong> at: <a href='https://wandb.ai/brupeshmit-massachusetts-institute-of-technology/kaggle-drw-crypto-notebooks/runs/8mnigsuv' target=\"_blank\">https://wandb.ai/brupeshmit-massachusetts-institute-of-technology/kaggle-drw-crypto-notebooks/runs/8mnigsuv</a><br> View project at: <a href='https://wandb.ai/brupeshmit-massachusetts-institute-of-technology/kaggle-drw-crypto-notebooks' target=\"_blank\">https://wandb.ai/brupeshmit-massachusetts-institute-of-technology/kaggle-drw-crypto-notebooks</a><br>Synced 5 W&B file(s), 0 media file(s), 0 artifact file(s) and 0 other file(s)"
      ],
      "text/plain": [
       "<IPython.core.display.HTML object>"
      ]
     },
     "metadata": {},
     "output_type": "display_data"
    },
    {
     "data": {
      "text/html": [
       "Find logs at: <code>../data/wandb_logs/wandb/run-20250814_225908-8mnigsuv/logs</code>"
      ],
      "text/plain": [
       "<IPython.core.display.HTML object>"
      ]
     },
     "metadata": {},
     "output_type": "display_data"
    },
    {
     "data": {
      "text/html": [
       "Tracking run with wandb version 0.21.1"
      ],
      "text/plain": [
       "<IPython.core.display.HTML object>"
      ]
     },
     "metadata": {},
     "output_type": "display_data"
    },
    {
     "data": {
      "text/html": [
       "Run data is saved locally in <code>../data/wandb_logs/wandb/run-20250814_230105-18eaabuz</code>"
      ],
      "text/plain": [
       "<IPython.core.display.HTML object>"
      ]
     },
     "metadata": {},
     "output_type": "display_data"
    },
    {
     "data": {
      "text/html": [
       "Syncing run <strong><a href='https://wandb.ai/brupeshmit-massachusetts-institute-of-technology/kaggle-drw-crypto-notebooks/runs/18eaabuz' target=\"_blank\">mild-dragon-23</a></strong> to <a href='https://wandb.ai/brupeshmit-massachusetts-institute-of-technology/kaggle-drw-crypto-notebooks' target=\"_blank\">Weights & Biases</a> (<a href='https://wandb.me/developer-guide' target=\"_blank\">docs</a>)<br>"
      ],
      "text/plain": [
       "<IPython.core.display.HTML object>"
      ]
     },
     "metadata": {},
     "output_type": "display_data"
    },
    {
     "data": {
      "text/html": [
       " View project at <a href='https://wandb.ai/brupeshmit-massachusetts-institute-of-technology/kaggle-drw-crypto-notebooks' target=\"_blank\">https://wandb.ai/brupeshmit-massachusetts-institute-of-technology/kaggle-drw-crypto-notebooks</a>"
      ],
      "text/plain": [
       "<IPython.core.display.HTML object>"
      ]
     },
     "metadata": {},
     "output_type": "display_data"
    },
    {
     "data": {
      "text/html": [
       " View run at <a href='https://wandb.ai/brupeshmit-massachusetts-institute-of-technology/kaggle-drw-crypto-notebooks/runs/18eaabuz' target=\"_blank\">https://wandb.ai/brupeshmit-massachusetts-institute-of-technology/kaggle-drw-crypto-notebooks/runs/18eaabuz</a>"
      ],
      "text/plain": [
       "<IPython.core.display.HTML object>"
      ]
     },
     "metadata": {},
     "output_type": "display_data"
    },
    {
     "name": "stdout",
     "output_type": "stream",
     "text": [
      "Training until validation scores don't improve for 50 rounds\n",
      "Early stopping, best iteration is:\n",
      "[16]\tvalid_0's rmse: 0.978829\n",
      "Training until validation scores don't improve for 50 rounds\n",
      "Early stopping, best iteration is:\n",
      "[1]\tvalid_0's rmse: 1.00556\n",
      "Training until validation scores don't improve for 50 rounds\n",
      "Early stopping, best iteration is:\n",
      "[1]\tvalid_0's rmse: 1.00975\n",
      "Training until validation scores don't improve for 50 rounds\n",
      "Early stopping, best iteration is:\n",
      "[6]\tvalid_0's rmse: 0.97596\n",
      "Training until validation scores don't improve for 50 rounds\n"
     ]
    },
    {
     "name": "stderr",
     "output_type": "stream",
     "text": [
      "[I 2025-08-14 23:01:19,263] Trial 0 finished with value: 1.0067690801216946 and parameters: {'boosting_type': 'gbdt', 'learning_rate': 0.007669544406706384, 'num_leaves': 334, 'max_depth': 10, 'min_child_samples': 72, 'subsample': 0.9551029921658695, 'colsample_bytree': 0.5362309999938235, 'reg_alpha': 0.0006823700742757026, 'reg_lambda': 0.0005581981230231926}. Best is trial 0 with value: 1.0067690801216946.\n"
     ]
    },
    {
     "name": "stdout",
     "output_type": "stream",
     "text": [
      "Early stopping, best iteration is:\n",
      "[1]\tvalid_0's rmse: 1.06375\n"
     ]
    },
    {
     "name": "stderr",
     "output_type": "stream",
     "text": [
      "/home/brupesh/Documents/kaggle-drw-crypto/.venv/lib/python3.12/site-packages/lightgbm/callback.py:333: UserWarning: Early stopping is not available in dart mode\n",
      "  _log_warning(\"Early stopping is not available in dart mode\")\n"
     ]
    },
    {
     "name": "stdout",
     "output_type": "stream",
     "text": [
      "[100]\tvalid_0's rmse: 0.979003\n",
      "[200]\tvalid_0's rmse: 0.978892\n",
      "[300]\tvalid_0's rmse: 0.978972\n",
      "[400]\tvalid_0's rmse: 0.979346\n",
      "[500]\tvalid_0's rmse: 0.979787\n"
     ]
    },
    {
     "name": "stderr",
     "output_type": "stream",
     "text": [
      "/home/brupesh/Documents/kaggle-drw-crypto/.venv/lib/python3.12/site-packages/lightgbm/callback.py:333: UserWarning: Early stopping is not available in dart mode\n",
      "  _log_warning(\"Early stopping is not available in dart mode\")\n"
     ]
    },
    {
     "name": "stdout",
     "output_type": "stream",
     "text": [
      "[100]\tvalid_0's rmse: 1.00548\n",
      "[200]\tvalid_0's rmse: 1.00541\n",
      "[300]\tvalid_0's rmse: 1.00557\n",
      "[400]\tvalid_0's rmse: 1.00598\n",
      "[500]\tvalid_0's rmse: 1.00658\n"
     ]
    },
    {
     "name": "stderr",
     "output_type": "stream",
     "text": [
      "/home/brupesh/Documents/kaggle-drw-crypto/.venv/lib/python3.12/site-packages/lightgbm/callback.py:333: UserWarning: Early stopping is not available in dart mode\n",
      "  _log_warning(\"Early stopping is not available in dart mode\")\n"
     ]
    },
    {
     "name": "stdout",
     "output_type": "stream",
     "text": [
      "[100]\tvalid_0's rmse: 1.00969\n",
      "[200]\tvalid_0's rmse: 1.00988\n",
      "[300]\tvalid_0's rmse: 1.01003\n",
      "[400]\tvalid_0's rmse: 1.01042\n",
      "[500]\tvalid_0's rmse: 1.0107\n"
     ]
    },
    {
     "name": "stderr",
     "output_type": "stream",
     "text": [
      "/home/brupesh/Documents/kaggle-drw-crypto/.venv/lib/python3.12/site-packages/lightgbm/callback.py:333: UserWarning: Early stopping is not available in dart mode\n",
      "  _log_warning(\"Early stopping is not available in dart mode\")\n"
     ]
    },
    {
     "name": "stdout",
     "output_type": "stream",
     "text": [
      "[100]\tvalid_0's rmse: 0.976696\n",
      "[200]\tvalid_0's rmse: 0.977029\n",
      "[300]\tvalid_0's rmse: 0.977384\n",
      "[400]\tvalid_0's rmse: 0.978056\n",
      "[500]\tvalid_0's rmse: 0.978882\n"
     ]
    },
    {
     "name": "stderr",
     "output_type": "stream",
     "text": [
      "/home/brupesh/Documents/kaggle-drw-crypto/.venv/lib/python3.12/site-packages/lightgbm/callback.py:333: UserWarning: Early stopping is not available in dart mode\n",
      "  _log_warning(\"Early stopping is not available in dart mode\")\n"
     ]
    },
    {
     "name": "stdout",
     "output_type": "stream",
     "text": [
      "[100]\tvalid_0's rmse: 1.06412\n",
      "[200]\tvalid_0's rmse: 1.06456\n",
      "[300]\tvalid_0's rmse: 1.06456\n",
      "[400]\tvalid_0's rmse: 1.06459\n",
      "[500]\tvalid_0's rmse: 1.06464\n"
     ]
    },
    {
     "name": "stderr",
     "output_type": "stream",
     "text": [
      "[I 2025-08-14 23:02:07,918] Trial 1 finished with value: 1.008117773326926 and parameters: {'boosting_type': 'dart', 'learning_rate': 0.0010780528347317585, 'num_leaves': 268, 'max_depth': 6, 'min_child_samples': 59, 'subsample': 0.7499711942631283, 'colsample_bytree': 0.6565249995963556, 'reg_alpha': 0.9986471040593062, 'reg_lambda': 5.035824803727473e-08}. Best is trial 0 with value: 1.0067690801216946.\n",
      "/home/brupesh/Documents/kaggle-drw-crypto/.venv/lib/python3.12/site-packages/lightgbm/callback.py:333: UserWarning: Early stopping is not available in dart mode\n",
      "  _log_warning(\"Early stopping is not available in dart mode\")\n"
     ]
    },
    {
     "name": "stdout",
     "output_type": "stream",
     "text": [
      "[100]\tvalid_0's rmse: 1.05693\n",
      "[200]\tvalid_0's rmse: 1.06316\n",
      "[300]\tvalid_0's rmse: 1.07026\n",
      "[400]\tvalid_0's rmse: 1.07334\n",
      "[500]\tvalid_0's rmse: 1.07561\n"
     ]
    },
    {
     "name": "stderr",
     "output_type": "stream",
     "text": [
      "/home/brupesh/Documents/kaggle-drw-crypto/.venv/lib/python3.12/site-packages/lightgbm/callback.py:333: UserWarning: Early stopping is not available in dart mode\n",
      "  _log_warning(\"Early stopping is not available in dart mode\")\n"
     ]
    },
    {
     "name": "stdout",
     "output_type": "stream",
     "text": [
      "[100]\tvalid_0's rmse: 1.07788\n",
      "[200]\tvalid_0's rmse: 1.08438\n",
      "[300]\tvalid_0's rmse: 1.09252\n",
      "[400]\tvalid_0's rmse: 1.09335\n",
      "[500]\tvalid_0's rmse: 1.09818\n"
     ]
    },
    {
     "name": "stderr",
     "output_type": "stream",
     "text": [
      "/home/brupesh/Documents/kaggle-drw-crypto/.venv/lib/python3.12/site-packages/lightgbm/callback.py:333: UserWarning: Early stopping is not available in dart mode\n",
      "  _log_warning(\"Early stopping is not available in dart mode\")\n"
     ]
    },
    {
     "name": "stdout",
     "output_type": "stream",
     "text": [
      "[100]\tvalid_0's rmse: 1.10664\n",
      "[200]\tvalid_0's rmse: 1.13121\n",
      "[300]\tvalid_0's rmse: 1.13627\n",
      "[400]\tvalid_0's rmse: 1.14135\n",
      "[500]\tvalid_0's rmse: 1.14676\n"
     ]
    },
    {
     "name": "stderr",
     "output_type": "stream",
     "text": [
      "/home/brupesh/Documents/kaggle-drw-crypto/.venv/lib/python3.12/site-packages/lightgbm/callback.py:333: UserWarning: Early stopping is not available in dart mode\n",
      "  _log_warning(\"Early stopping is not available in dart mode\")\n"
     ]
    },
    {
     "name": "stdout",
     "output_type": "stream",
     "text": [
      "[100]\tvalid_0's rmse: 1.02804\n",
      "[200]\tvalid_0's rmse: 1.02378\n",
      "[300]\tvalid_0's rmse: 1.03162\n",
      "[400]\tvalid_0's rmse: 1.03615\n",
      "[500]\tvalid_0's rmse: 1.04088\n"
     ]
    },
    {
     "name": "stderr",
     "output_type": "stream",
     "text": [
      "/home/brupesh/Documents/kaggle-drw-crypto/.venv/lib/python3.12/site-packages/lightgbm/callback.py:333: UserWarning: Early stopping is not available in dart mode\n",
      "  _log_warning(\"Early stopping is not available in dart mode\")\n"
     ]
    },
    {
     "name": "stdout",
     "output_type": "stream",
     "text": [
      "[100]\tvalid_0's rmse: 1.2042\n",
      "[200]\tvalid_0's rmse: 1.25216\n",
      "[300]\tvalid_0's rmse: 1.25597\n",
      "[400]\tvalid_0's rmse: 1.28123\n",
      "[500]\tvalid_0's rmse: 1.29067\n"
     ]
    },
    {
     "name": "stderr",
     "output_type": "stream",
     "text": [
      "[I 2025-08-14 23:03:58,080] Trial 2 finished with value: 1.1304223556920616 and parameters: {'boosting_type': 'dart', 'learning_rate': 0.13394740083605072, 'num_leaves': 100, 'max_depth': 10, 'min_child_samples': 54, 'subsample': 0.905887880025497, 'colsample_bytree': 0.7546219171017449, 'reg_alpha': 4.2175395576886244e-08, 'reg_lambda': 0.005737026285058065}. Best is trial 0 with value: 1.0067690801216946.\n",
      "/home/brupesh/Documents/kaggle-drw-crypto/.venv/lib/python3.12/site-packages/lightgbm/callback.py:333: UserWarning: Early stopping is not available in dart mode\n",
      "  _log_warning(\"Early stopping is not available in dart mode\")\n"
     ]
    },
    {
     "name": "stdout",
     "output_type": "stream",
     "text": [
      "[100]\tvalid_0's rmse: 0.992058\n",
      "[200]\tvalid_0's rmse: 0.999431\n",
      "[300]\tvalid_0's rmse: 1.01678\n",
      "[400]\tvalid_0's rmse: 1.03208\n",
      "[500]\tvalid_0's rmse: 1.03951\n"
     ]
    },
    {
     "name": "stderr",
     "output_type": "stream",
     "text": [
      "/home/brupesh/Documents/kaggle-drw-crypto/.venv/lib/python3.12/site-packages/lightgbm/callback.py:333: UserWarning: Early stopping is not available in dart mode\n",
      "  _log_warning(\"Early stopping is not available in dart mode\")\n"
     ]
    },
    {
     "name": "stdout",
     "output_type": "stream",
     "text": [
      "[100]\tvalid_0's rmse: 1.01022\n",
      "[200]\tvalid_0's rmse: 1.01594\n",
      "[300]\tvalid_0's rmse: 1.02078\n",
      "[400]\tvalid_0's rmse: 1.02544\n",
      "[500]\tvalid_0's rmse: 1.03364\n"
     ]
    },
    {
     "name": "stderr",
     "output_type": "stream",
     "text": [
      "/home/brupesh/Documents/kaggle-drw-crypto/.venv/lib/python3.12/site-packages/lightgbm/callback.py:333: UserWarning: Early stopping is not available in dart mode\n",
      "  _log_warning(\"Early stopping is not available in dart mode\")\n"
     ]
    },
    {
     "name": "stdout",
     "output_type": "stream",
     "text": [
      "[100]\tvalid_0's rmse: 1.01633\n",
      "[200]\tvalid_0's rmse: 1.02316\n",
      "[300]\tvalid_0's rmse: 1.0376\n",
      "[400]\tvalid_0's rmse: 1.04923\n",
      "[500]\tvalid_0's rmse: 1.05613\n"
     ]
    },
    {
     "name": "stderr",
     "output_type": "stream",
     "text": [
      "/home/brupesh/Documents/kaggle-drw-crypto/.venv/lib/python3.12/site-packages/lightgbm/callback.py:333: UserWarning: Early stopping is not available in dart mode\n",
      "  _log_warning(\"Early stopping is not available in dart mode\")\n"
     ]
    },
    {
     "name": "stdout",
     "output_type": "stream",
     "text": [
      "[100]\tvalid_0's rmse: 0.98164\n",
      "[200]\tvalid_0's rmse: 0.986242\n",
      "[300]\tvalid_0's rmse: 0.990039\n",
      "[400]\tvalid_0's rmse: 0.992166\n",
      "[500]\tvalid_0's rmse: 0.994514\n"
     ]
    },
    {
     "name": "stderr",
     "output_type": "stream",
     "text": [
      "/home/brupesh/Documents/kaggle-drw-crypto/.venv/lib/python3.12/site-packages/lightgbm/callback.py:333: UserWarning: Early stopping is not available in dart mode\n",
      "  _log_warning(\"Early stopping is not available in dart mode\")\n"
     ]
    },
    {
     "name": "stdout",
     "output_type": "stream",
     "text": [
      "[100]\tvalid_0's rmse: 1.06741\n",
      "[200]\tvalid_0's rmse: 1.0789\n",
      "[300]\tvalid_0's rmse: 1.09191\n",
      "[400]\tvalid_0's rmse: 1.10724\n",
      "[500]\tvalid_0's rmse: 1.13035\n"
     ]
    },
    {
     "name": "stderr",
     "output_type": "stream",
     "text": [
      "[I 2025-08-14 23:05:59,179] Trial 3 finished with value: 1.0508274976751395 and parameters: {'boosting_type': 'dart', 'learning_rate': 0.01212868140856651, 'num_leaves': 361, 'max_depth': 11, 'min_child_samples': 94, 'subsample': 0.5421144525138745, 'colsample_bytree': 0.5383573976996119, 'reg_alpha': 2.611800019476048e-06, 'reg_lambda': 7.14389483798403e-05}. Best is trial 0 with value: 1.0067690801216946.\n"
     ]
    },
    {
     "name": "stdout",
     "output_type": "stream",
     "text": [
      "Training until validation scores don't improve for 50 rounds\n",
      "Early stopping, best iteration is:\n",
      "[5]\tvalid_0's rmse: 0.979418\n",
      "Training until validation scores don't improve for 50 rounds\n",
      "Early stopping, best iteration is:\n",
      "[1]\tvalid_0's rmse: 1.00569\n",
      "Training until validation scores don't improve for 50 rounds\n",
      "Early stopping, best iteration is:\n",
      "[1]\tvalid_0's rmse: 1.00946\n",
      "Training until validation scores don't improve for 50 rounds\n",
      "Early stopping, best iteration is:\n",
      "[2]\tvalid_0's rmse: 0.975963\n",
      "Training until validation scores don't improve for 50 rounds\n",
      "[100]\tvalid_0's rmse: 1.06802\n"
     ]
    },
    {
     "name": "stderr",
     "output_type": "stream",
     "text": [
      "[I 2025-08-14 23:06:08,966] Trial 4 finished with value: 1.0059326070367782 and parameters: {'boosting_type': 'gbdt', 'learning_rate': 0.008587957108151273, 'num_leaves': 177, 'max_depth': 6, 'min_child_samples': 40, 'subsample': 0.6430034916658506, 'colsample_bytree': 0.8841782373838412, 'reg_alpha': 0.00013476131207986218, 'reg_lambda': 8.112792825074774e-05}. Best is trial 4 with value: 1.0059326070367782.\n"
     ]
    },
    {
     "name": "stdout",
     "output_type": "stream",
     "text": [
      "Early stopping, best iteration is:\n",
      "[75]\tvalid_0's rmse: 1.05913\n",
      "Training until validation scores don't improve for 50 rounds\n",
      "Early stopping, best iteration is:\n",
      "[32]\tvalid_0's rmse: 0.978948\n",
      "Training until validation scores don't improve for 50 rounds\n",
      "Early stopping, best iteration is:\n",
      "[1]\tvalid_0's rmse: 1.00574\n",
      "Training until validation scores don't improve for 50 rounds\n",
      "Early stopping, best iteration is:\n",
      "[1]\tvalid_0's rmse: 1.0095\n",
      "Training until validation scores don't improve for 50 rounds\n",
      "[100]\tvalid_0's rmse: 0.97653\n",
      "Early stopping, best iteration is:\n",
      "[59]\tvalid_0's rmse: 0.976003\n",
      "Training until validation scores don't improve for 50 rounds\n"
     ]
    },
    {
     "name": "stderr",
     "output_type": "stream",
     "text": [
      "[I 2025-08-14 23:06:24,198] Trial 5 finished with value: 1.0067388161755737 and parameters: {'boosting_type': 'gbdt', 'learning_rate': 0.001124181489293956, 'num_leaves': 367, 'max_depth': 10, 'min_child_samples': 56, 'subsample': 0.5403593986889732, 'colsample_bytree': 0.6423424261799229, 'reg_alpha': 1.07378954493895e-06, 'reg_lambda': 8.625500858617912e-07}. Best is trial 4 with value: 1.0059326070367782.\n"
     ]
    },
    {
     "name": "stdout",
     "output_type": "stream",
     "text": [
      "Early stopping, best iteration is:\n",
      "[43]\tvalid_0's rmse: 1.0635\n",
      "Training until validation scores don't improve for 50 rounds\n",
      "Early stopping, best iteration is:\n",
      "[10]\tvalid_0's rmse: 0.979314\n",
      "Training until validation scores don't improve for 50 rounds\n",
      "Early stopping, best iteration is:\n",
      "[1]\tvalid_0's rmse: 1.00575\n",
      "Training until validation scores don't improve for 50 rounds\n",
      "Early stopping, best iteration is:\n",
      "[23]\tvalid_0's rmse: 1.00946\n",
      "Training until validation scores don't improve for 50 rounds\n",
      "Early stopping, best iteration is:\n",
      "[5]\tvalid_0's rmse: 0.976121\n",
      "Training until validation scores don't improve for 50 rounds\n",
      "[100]\tvalid_0's rmse: 1.06326\n",
      "[200]\tvalid_0's rmse: 1.06231\n",
      "[300]\tvalid_0's rmse: 1.06211\n",
      "Early stopping, best iteration is:\n",
      "[271]\tvalid_0's rmse: 1.06204\n"
     ]
    },
    {
     "name": "stderr",
     "output_type": "stream",
     "text": [
      "[I 2025-08-14 23:06:34,726] Trial 6 finished with value: 1.0065352358123874 and parameters: {'boosting_type': 'gbdt', 'learning_rate': 0.001386485094265418, 'num_leaves': 366, 'max_depth': 6, 'min_child_samples': 89, 'subsample': 0.5740172211113079, 'colsample_bytree': 0.7952315773843055, 'reg_alpha': 0.5450831687252766, 'reg_lambda': 1.1077247303377053e-07}. Best is trial 4 with value: 1.0059326070367782.\n",
      "/home/brupesh/Documents/kaggle-drw-crypto/.venv/lib/python3.12/site-packages/lightgbm/callback.py:333: UserWarning: Early stopping is not available in dart mode\n",
      "  _log_warning(\"Early stopping is not available in dart mode\")\n"
     ]
    },
    {
     "name": "stdout",
     "output_type": "stream",
     "text": [
      "[100]\tvalid_0's rmse: 1.00095\n",
      "[200]\tvalid_0's rmse: 1.01871\n",
      "[300]\tvalid_0's rmse: 1.04205\n",
      "[400]\tvalid_0's rmse: 1.05199\n",
      "[500]\tvalid_0's rmse: 1.06102\n"
     ]
    },
    {
     "name": "stderr",
     "output_type": "stream",
     "text": [
      "/home/brupesh/Documents/kaggle-drw-crypto/.venv/lib/python3.12/site-packages/lightgbm/callback.py:333: UserWarning: Early stopping is not available in dart mode\n",
      "  _log_warning(\"Early stopping is not available in dart mode\")\n"
     ]
    },
    {
     "name": "stdout",
     "output_type": "stream",
     "text": [
      "[100]\tvalid_0's rmse: 1.01645\n",
      "[200]\tvalid_0's rmse: 1.0196\n",
      "[300]\tvalid_0's rmse: 1.02631\n",
      "[400]\tvalid_0's rmse: 1.03368\n",
      "[500]\tvalid_0's rmse: 1.03997\n"
     ]
    },
    {
     "name": "stderr",
     "output_type": "stream",
     "text": [
      "/home/brupesh/Documents/kaggle-drw-crypto/.venv/lib/python3.12/site-packages/lightgbm/callback.py:333: UserWarning: Early stopping is not available in dart mode\n",
      "  _log_warning(\"Early stopping is not available in dart mode\")\n"
     ]
    },
    {
     "name": "stdout",
     "output_type": "stream",
     "text": [
      "[100]\tvalid_0's rmse: 1.03242\n",
      "[200]\tvalid_0's rmse: 1.04236\n",
      "[300]\tvalid_0's rmse: 1.06708\n",
      "[400]\tvalid_0's rmse: 1.07573\n",
      "[500]\tvalid_0's rmse: 1.08151\n"
     ]
    },
    {
     "name": "stderr",
     "output_type": "stream",
     "text": [
      "/home/brupesh/Documents/kaggle-drw-crypto/.venv/lib/python3.12/site-packages/lightgbm/callback.py:333: UserWarning: Early stopping is not available in dart mode\n",
      "  _log_warning(\"Early stopping is not available in dart mode\")\n"
     ]
    },
    {
     "name": "stdout",
     "output_type": "stream",
     "text": [
      "[100]\tvalid_0's rmse: 0.984072\n",
      "[200]\tvalid_0's rmse: 0.987838\n",
      "[300]\tvalid_0's rmse: 0.993338\n",
      "[400]\tvalid_0's rmse: 0.999663\n",
      "[500]\tvalid_0's rmse: 1.00303\n"
     ]
    },
    {
     "name": "stderr",
     "output_type": "stream",
     "text": [
      "/home/brupesh/Documents/kaggle-drw-crypto/.venv/lib/python3.12/site-packages/lightgbm/callback.py:333: UserWarning: Early stopping is not available in dart mode\n",
      "  _log_warning(\"Early stopping is not available in dart mode\")\n"
     ]
    },
    {
     "name": "stdout",
     "output_type": "stream",
     "text": [
      "[100]\tvalid_0's rmse: 1.07334\n",
      "[200]\tvalid_0's rmse: 1.08862\n",
      "[300]\tvalid_0's rmse: 1.11636\n",
      "[400]\tvalid_0's rmse: 1.13689\n",
      "[500]\tvalid_0's rmse: 1.14906\n"
     ]
    },
    {
     "name": "stderr",
     "output_type": "stream",
     "text": [
      "[I 2025-08-14 23:09:13,598] Trial 7 finished with value: 1.066917904156321 and parameters: {'boosting_type': 'dart', 'learning_rate': 0.015973281414561367, 'num_leaves': 290, 'max_depth': 11, 'min_child_samples': 50, 'subsample': 0.7021387966600703, 'colsample_bytree': 0.7514820780352044, 'reg_alpha': 0.07963964340105449, 'reg_lambda': 1.991564951147465}. Best is trial 4 with value: 1.0059326070367782.\n",
      "/home/brupesh/Documents/kaggle-drw-crypto/.venv/lib/python3.12/site-packages/lightgbm/callback.py:333: UserWarning: Early stopping is not available in dart mode\n",
      "  _log_warning(\"Early stopping is not available in dart mode\")\n"
     ]
    },
    {
     "name": "stdout",
     "output_type": "stream",
     "text": [
      "[100]\tvalid_0's rmse: 1.05046\n",
      "[200]\tvalid_0's rmse: 1.06237\n",
      "[300]\tvalid_0's rmse: 1.07239\n",
      "[400]\tvalid_0's rmse: 1.08085\n",
      "[500]\tvalid_0's rmse: 1.08421\n"
     ]
    },
    {
     "name": "stderr",
     "output_type": "stream",
     "text": [
      "/home/brupesh/Documents/kaggle-drw-crypto/.venv/lib/python3.12/site-packages/lightgbm/callback.py:333: UserWarning: Early stopping is not available in dart mode\n",
      "  _log_warning(\"Early stopping is not available in dart mode\")\n"
     ]
    },
    {
     "name": "stdout",
     "output_type": "stream",
     "text": [
      "[100]\tvalid_0's rmse: 1.05144\n",
      "[200]\tvalid_0's rmse: 1.06246\n",
      "[300]\tvalid_0's rmse: 1.07072\n",
      "[400]\tvalid_0's rmse: 1.07571\n",
      "[500]\tvalid_0's rmse: 1.07791\n"
     ]
    },
    {
     "name": "stderr",
     "output_type": "stream",
     "text": [
      "/home/brupesh/Documents/kaggle-drw-crypto/.venv/lib/python3.12/site-packages/lightgbm/callback.py:333: UserWarning: Early stopping is not available in dart mode\n",
      "  _log_warning(\"Early stopping is not available in dart mode\")\n"
     ]
    },
    {
     "name": "stdout",
     "output_type": "stream",
     "text": [
      "[100]\tvalid_0's rmse: 1.05703\n",
      "[200]\tvalid_0's rmse: 1.08467\n",
      "[300]\tvalid_0's rmse: 1.0919\n",
      "[400]\tvalid_0's rmse: 1.09666\n",
      "[500]\tvalid_0's rmse: 1.09999\n"
     ]
    },
    {
     "name": "stderr",
     "output_type": "stream",
     "text": [
      "/home/brupesh/Documents/kaggle-drw-crypto/.venv/lib/python3.12/site-packages/lightgbm/callback.py:333: UserWarning: Early stopping is not available in dart mode\n",
      "  _log_warning(\"Early stopping is not available in dart mode\")\n"
     ]
    },
    {
     "name": "stdout",
     "output_type": "stream",
     "text": [
      "[100]\tvalid_0's rmse: 1.00121\n",
      "[200]\tvalid_0's rmse: 1.00378\n",
      "[300]\tvalid_0's rmse: 1.01454\n",
      "[400]\tvalid_0's rmse: 1.02298\n",
      "[500]\tvalid_0's rmse: 1.02707\n"
     ]
    },
    {
     "name": "stderr",
     "output_type": "stream",
     "text": [
      "/home/brupesh/Documents/kaggle-drw-crypto/.venv/lib/python3.12/site-packages/lightgbm/callback.py:333: UserWarning: Early stopping is not available in dart mode\n",
      "  _log_warning(\"Early stopping is not available in dart mode\")\n"
     ]
    },
    {
     "name": "stdout",
     "output_type": "stream",
     "text": [
      "[100]\tvalid_0's rmse: 1.13759\n",
      "[200]\tvalid_0's rmse: 1.16238\n",
      "[300]\tvalid_0's rmse: 1.1755\n",
      "[400]\tvalid_0's rmse: 1.19393\n",
      "[500]\tvalid_0's rmse: 1.20318\n"
     ]
    },
    {
     "name": "stderr",
     "output_type": "stream",
     "text": [
      "[I 2025-08-14 23:12:28,917] Trial 8 finished with value: 1.098469918239628 and parameters: {'boosting_type': 'dart', 'learning_rate': 0.05397689618935362, 'num_leaves': 500, 'max_depth': 12, 'min_child_samples': 64, 'subsample': 0.6461885768031791, 'colsample_bytree': 0.556558243210183, 'reg_alpha': 0.0037441796882596106, 'reg_lambda': 0.3608585384196598}. Best is trial 4 with value: 1.0059326070367782.\n"
     ]
    },
    {
     "name": "stdout",
     "output_type": "stream",
     "text": [
      "Training until validation scores don't improve for 50 rounds\n",
      "Early stopping, best iteration is:\n",
      "[5]\tvalid_0's rmse: 0.978969\n",
      "Training until validation scores don't improve for 50 rounds\n",
      "Early stopping, best iteration is:\n",
      "[1]\tvalid_0's rmse: 1.00569\n",
      "Training until validation scores don't improve for 50 rounds\n",
      "Early stopping, best iteration is:\n",
      "[1]\tvalid_0's rmse: 1.00949\n",
      "Training until validation scores don't improve for 50 rounds\n",
      "Early stopping, best iteration is:\n",
      "[4]\tvalid_0's rmse: 0.97602\n",
      "Training until validation scores don't improve for 50 rounds\n"
     ]
    },
    {
     "name": "stderr",
     "output_type": "stream",
     "text": [
      "[I 2025-08-14 23:12:41,618] Trial 9 finished with value: 1.0067280409479396 and parameters: {'boosting_type': 'gbdt', 'learning_rate': 0.0030643592111061877, 'num_leaves': 124, 'max_depth': 11, 'min_child_samples': 66, 'subsample': 0.5516679471322317, 'colsample_bytree': 0.7078117143128917, 'reg_alpha': 5.997299689126069e-06, 'reg_lambda': 0.20637292439617824}. Best is trial 4 with value: 1.0059326070367782.\n"
     ]
    },
    {
     "name": "stdout",
     "output_type": "stream",
     "text": [
      "Early stopping, best iteration is:\n",
      "[7]\tvalid_0's rmse: 1.06347\n",
      "Training until validation scores don't improve for 50 rounds\n",
      "Early stopping, best iteration is:\n",
      "[8]\tvalid_0's rmse: 0.977289\n",
      "Training until validation scores don't improve for 50 rounds\n",
      "Early stopping, best iteration is:\n",
      "[1]\tvalid_0's rmse: 1.00612\n",
      "Training until validation scores don't improve for 50 rounds\n",
      "Early stopping, best iteration is:\n",
      "[10]\tvalid_0's rmse: 1.00818\n",
      "Training until validation scores don't improve for 50 rounds\n",
      "Early stopping, best iteration is:\n",
      "[2]\tvalid_0's rmse: 0.976119\n",
      "Training until validation scores don't improve for 50 rounds\n",
      "Early stopping, best iteration is:\n",
      "[15]\tvalid_0's rmse: 1.06269\n"
     ]
    },
    {
     "name": "stderr",
     "output_type": "stream",
     "text": [
      "[I 2025-08-14 23:12:48,894] Trial 10 finished with value: 1.0060790425023007 and parameters: {'boosting_type': 'gbdt', 'learning_rate': 0.03521321830322877, 'num_leaves': 20, 'max_depth': 3, 'min_child_samples': 18, 'subsample': 0.8044101587367347, 'colsample_bytree': 0.95259045123296, 'reg_alpha': 8.836833169294116e-05, 'reg_lambda': 1.1562762148854702e-05}. Best is trial 4 with value: 1.0059326070367782.\n"
     ]
    },
    {
     "name": "stdout",
     "output_type": "stream",
     "text": [
      "Training until validation scores don't improve for 50 rounds\n",
      "Early stopping, best iteration is:\n",
      "[8]\tvalid_0's rmse: 0.976793\n",
      "Training until validation scores don't improve for 50 rounds\n",
      "Early stopping, best iteration is:\n",
      "[1]\tvalid_0's rmse: 1.00607\n",
      "Training until validation scores don't improve for 50 rounds\n",
      "Early stopping, best iteration is:\n",
      "[30]\tvalid_0's rmse: 1.00803\n",
      "Training until validation scores don't improve for 50 rounds\n",
      "Early stopping, best iteration is:\n",
      "[2]\tvalid_0's rmse: 0.976114\n",
      "Training until validation scores don't improve for 50 rounds\n",
      "Early stopping, best iteration is:\n",
      "[13]\tvalid_0's rmse: 1.06295\n"
     ]
    },
    {
     "name": "stderr",
     "output_type": "stream",
     "text": [
      "[I 2025-08-14 23:12:56,220] Trial 11 finished with value: 1.005992187255805 and parameters: {'boosting_type': 'gbdt', 'learning_rate': 0.030309178235529276, 'num_leaves': 19, 'max_depth': 3, 'min_child_samples': 19, 'subsample': 0.843034511004496, 'colsample_bytree': 0.9653895045446312, 'reg_alpha': 5.159274666642449e-05, 'reg_lambda': 1.719833590563841e-05}. Best is trial 4 with value: 1.0059326070367782.\n"
     ]
    },
    {
     "name": "stdout",
     "output_type": "stream",
     "text": [
      "Training until validation scores don't improve for 50 rounds\n",
      "Early stopping, best iteration is:\n",
      "[32]\tvalid_0's rmse: 0.977823\n",
      "Training until validation scores don't improve for 50 rounds\n",
      "Early stopping, best iteration is:\n",
      "[1]\tvalid_0's rmse: 1.00583\n",
      "Training until validation scores don't improve for 50 rounds\n",
      "[100]\tvalid_0's rmse: 1.00861\n",
      "Early stopping, best iteration is:\n",
      "[55]\tvalid_0's rmse: 1.00817\n",
      "Training until validation scores don't improve for 50 rounds\n",
      "Early stopping, best iteration is:\n",
      "[10]\tvalid_0's rmse: 0.976118\n",
      "Training until validation scores don't improve for 50 rounds\n"
     ]
    },
    {
     "name": "stderr",
     "output_type": "stream",
     "text": [
      "[I 2025-08-14 23:13:03,881] Trial 12 finished with value: 1.0062160037222267 and parameters: {'boosting_type': 'gbdt', 'learning_rate': 0.005338802914196657, 'num_leaves': 150, 'max_depth': 3, 'min_child_samples': 21, 'subsample': 0.8469579453260537, 'colsample_bytree': 0.9855736286415341, 'reg_alpha': 6.227176550011169e-05, 'reg_lambda': 9.095473810852601e-06}. Best is trial 4 with value: 1.0059326070367782.\n"
     ]
    },
    {
     "name": "stdout",
     "output_type": "stream",
     "text": [
      "[100]\tvalid_0's rmse: 1.06361\n",
      "Early stopping, best iteration is:\n",
      "[73]\tvalid_0's rmse: 1.06314\n",
      "Training until validation scores don't improve for 50 rounds\n",
      "Early stopping, best iteration is:\n",
      "[1]\tvalid_0's rmse: 0.97927\n",
      "Training until validation scores don't improve for 50 rounds\n",
      "Early stopping, best iteration is:\n",
      "[1]\tvalid_0's rmse: 1.00551\n",
      "Training until validation scores don't improve for 50 rounds\n",
      "Early stopping, best iteration is:\n",
      "[1]\tvalid_0's rmse: 1.00966\n",
      "Training until validation scores don't improve for 50 rounds\n",
      "Early stopping, best iteration is:\n",
      "[2]\tvalid_0's rmse: 0.975964\n",
      "Training until validation scores don't improve for 50 rounds\n"
     ]
    },
    {
     "name": "stderr",
     "output_type": "stream",
     "text": [
      "[I 2025-08-14 23:13:11,687] Trial 13 finished with value: 1.0067521110297808 and parameters: {'boosting_type': 'gbdt', 'learning_rate': 0.030305060046851556, 'num_leaves': 17, 'max_depth': 5, 'min_child_samples': 36, 'subsample': 0.6425589029777542, 'colsample_bytree': 0.8810363809165741, 'reg_alpha': 0.00737700836615031, 'reg_lambda': 0.0029292129841951525}. Best is trial 4 with value: 1.0059326070367782.\n"
     ]
    },
    {
     "name": "stdout",
     "output_type": "stream",
     "text": [
      "Early stopping, best iteration is:\n",
      "[1]\tvalid_0's rmse: 1.06336\n",
      "Training until validation scores don't improve for 50 rounds\n",
      "Early stopping, best iteration is:\n",
      "[1]\tvalid_0's rmse: 0.981068\n",
      "Training until validation scores don't improve for 50 rounds\n",
      "Early stopping, best iteration is:\n",
      "[1]\tvalid_0's rmse: 1.0063\n",
      "Training until validation scores don't improve for 50 rounds\n",
      "Early stopping, best iteration is:\n",
      "[1]\tvalid_0's rmse: 1.01586\n",
      "Training until validation scores don't improve for 50 rounds\n",
      "Early stopping, best iteration is:\n",
      "[1]\tvalid_0's rmse: 0.976835\n",
      "Training until validation scores don't improve for 50 rounds\n"
     ]
    },
    {
     "name": "stderr",
     "output_type": "stream",
     "text": [
      "[I 2025-08-14 23:13:25,682] Trial 14 finished with value: 1.0083509142257703 and parameters: {'boosting_type': 'gbdt', 'learning_rate': 0.0997567158417246, 'num_leaves': 189, 'max_depth': 8, 'min_child_samples': 9, 'subsample': 0.8233224547226778, 'colsample_bytree': 0.9038708445357226, 'reg_alpha': 2.3969020024822907e-08, 'reg_lambda': 1.91031748976869e-06}. Best is trial 4 with value: 1.0059326070367782.\n"
     ]
    },
    {
     "name": "stdout",
     "output_type": "stream",
     "text": [
      "Early stopping, best iteration is:\n",
      "[4]\tvalid_0's rmse: 1.06169\n",
      "Training until validation scores don't improve for 50 rounds\n",
      "Early stopping, best iteration is:\n",
      "[1]\tvalid_0's rmse: 0.979366\n",
      "Training until validation scores don't improve for 50 rounds\n",
      "Early stopping, best iteration is:\n",
      "[1]\tvalid_0's rmse: 1.00549\n",
      "Training until validation scores don't improve for 50 rounds\n",
      "Early stopping, best iteration is:\n",
      "[23]\tvalid_0's rmse: 1.00828\n",
      "Training until validation scores don't improve for 50 rounds\n",
      "Early stopping, best iteration is:\n",
      "[2]\tvalid_0's rmse: 0.976257\n",
      "Training until validation scores don't improve for 50 rounds\n"
     ]
    },
    {
     "name": "stderr",
     "output_type": "stream",
     "text": [
      "[I 2025-08-14 23:13:33,425] Trial 15 finished with value: 1.0061781479148348 and parameters: {'boosting_type': 'gbdt', 'learning_rate': 0.017803785781884816, 'num_leaves': 211, 'max_depth': 4, 'min_child_samples': 36, 'subsample': 0.9979521627326172, 'colsample_bytree': 0.8427447643704183, 'reg_alpha': 2.0489648195322276e-05, 'reg_lambda': 0.0001786419866102187}. Best is trial 4 with value: 1.0059326070367782.\n"
     ]
    },
    {
     "name": "stdout",
     "output_type": "stream",
     "text": [
      "Early stopping, best iteration is:\n",
      "[35]\tvalid_0's rmse: 1.06149\n",
      "Training until validation scores don't improve for 50 rounds\n",
      "Early stopping, best iteration is:\n",
      "[1]\tvalid_0's rmse: 0.979356\n",
      "Training until validation scores don't improve for 50 rounds\n",
      "Early stopping, best iteration is:\n",
      "[1]\tvalid_0's rmse: 1.00574\n",
      "Training until validation scores don't improve for 50 rounds\n",
      "Early stopping, best iteration is:\n",
      "[1]\tvalid_0's rmse: 1.00946\n",
      "Training until validation scores don't improve for 50 rounds\n",
      "Early stopping, best iteration is:\n",
      "[4]\tvalid_0's rmse: 0.975995\n",
      "Training until validation scores don't improve for 50 rounds\n"
     ]
    },
    {
     "name": "stderr",
     "output_type": "stream",
     "text": [
      "[I 2025-08-14 23:13:43,858] Trial 16 finished with value: 1.0067620081231128 and parameters: {'boosting_type': 'gbdt', 'learning_rate': 0.0035053646927855867, 'num_leaves': 88, 'max_depth': 8, 'min_child_samples': 37, 'subsample': 0.7367583546694273, 'colsample_bytree': 0.9203560660090001, 'reg_alpha': 4.3064406737162324e-07, 'reg_lambda': 0.014106967234415832}. Best is trial 4 with value: 1.0059326070367782.\n"
     ]
    },
    {
     "name": "stdout",
     "output_type": "stream",
     "text": [
      "Early stopping, best iteration is:\n",
      "[7]\tvalid_0's rmse: 1.06326\n",
      "Training until validation scores don't improve for 50 rounds\n",
      "Early stopping, best iteration is:\n",
      "[1]\tvalid_0's rmse: 0.979504\n",
      "Training until validation scores don't improve for 50 rounds\n",
      "Early stopping, best iteration is:\n",
      "[1]\tvalid_0's rmse: 1.0048\n",
      "Training until validation scores don't improve for 50 rounds\n",
      "Early stopping, best iteration is:\n",
      "[1]\tvalid_0's rmse: 1.01128\n",
      "Training until validation scores don't improve for 50 rounds\n",
      "Early stopping, best iteration is:\n",
      "[1]\tvalid_0's rmse: 0.976029\n",
      "Training until validation scores don't improve for 50 rounds\n"
     ]
    },
    {
     "name": "stderr",
     "output_type": "stream",
     "text": [
      "[I 2025-08-14 23:13:52,953] Trial 17 finished with value: 1.0062172726460958 and parameters: {'boosting_type': 'gbdt', 'learning_rate': 0.05506979800493404, 'num_leaves': 71, 'max_depth': 6, 'min_child_samples': 22, 'subsample': 0.643719866578564, 'colsample_bytree': 0.997542039905978, 'reg_alpha': 0.0010701706914987036, 'reg_lambda': 3.373488082761299e-05}. Best is trial 4 with value: 1.0059326070367782.\n"
     ]
    },
    {
     "name": "stdout",
     "output_type": "stream",
     "text": [
      "Early stopping, best iteration is:\n",
      "[12]\tvalid_0's rmse: 1.05947\n",
      "Training until validation scores don't improve for 50 rounds\n",
      "Early stopping, best iteration is:\n",
      "[3]\tvalid_0's rmse: 0.985059\n",
      "Training until validation scores don't improve for 50 rounds\n",
      "Early stopping, best iteration is:\n",
      "[1]\tvalid_0's rmse: 1.00824\n",
      "Training until validation scores don't improve for 50 rounds\n",
      "Early stopping, best iteration is:\n",
      "[1]\tvalid_0's rmse: 1.01001\n",
      "Training until validation scores don't improve for 50 rounds\n",
      "Early stopping, best iteration is:\n",
      "[1]\tvalid_0's rmse: 0.983687\n",
      "Training until validation scores don't improve for 50 rounds\n",
      "Early stopping, best iteration is:\n",
      "[1]\tvalid_0's rmse: 1.06565\n"
     ]
    },
    {
     "name": "stderr",
     "output_type": "stream",
     "text": [
      "[I 2025-08-14 23:14:00,631] Trial 18 finished with value: 1.0105289410176979 and parameters: {'boosting_type': 'gbdt', 'learning_rate': 0.19899568553405883, 'num_leaves': 448, 'max_depth': 4, 'min_child_samples': 6, 'subsample': 0.8703362905877621, 'colsample_bytree': 0.8399034258115001, 'reg_alpha': 0.019783424211074915, 'reg_lambda': 8.679392081953745e-07}. Best is trial 4 with value: 1.0059326070367782.\n"
     ]
    },
    {
     "name": "stdout",
     "output_type": "stream",
     "text": [
      "Training until validation scores don't improve for 50 rounds\n",
      "Early stopping, best iteration is:\n",
      "[1]\tvalid_0's rmse: 0.979411\n",
      "Training until validation scores don't improve for 50 rounds\n",
      "Early stopping, best iteration is:\n",
      "[1]\tvalid_0's rmse: 1.00549\n",
      "Training until validation scores don't improve for 50 rounds\n",
      "Early stopping, best iteration is:\n",
      "[3]\tvalid_0's rmse: 1.00929\n",
      "Training until validation scores don't improve for 50 rounds\n",
      "Early stopping, best iteration is:\n",
      "[2]\tvalid_0's rmse: 0.976008\n",
      "Training until validation scores don't improve for 50 rounds\n",
      "[100]\tvalid_0's rmse: 1.06711\n"
     ]
    },
    {
     "name": "stderr",
     "output_type": "stream",
     "text": [
      "[I 2025-08-14 23:14:10,833] Trial 19 finished with value: 1.006444970750891 and parameters: {'boosting_type': 'gbdt', 'learning_rate': 0.007759636839820192, 'num_leaves': 198, 'max_depth': 7, 'min_child_samples': 43, 'subsample': 0.6994160967852774, 'colsample_bytree': 0.8375750723909046, 'reg_alpha': 0.00032406306721675205, 'reg_lambda': 0.0008657002095288463}. Best is trial 4 with value: 1.0059326070367782.\n"
     ]
    },
    {
     "name": "stdout",
     "output_type": "stream",
     "text": [
      "Early stopping, best iteration is:\n",
      "[71]\tvalid_0's rmse: 1.06202\n",
      "Training until validation scores don't improve for 50 rounds\n",
      "Early stopping, best iteration is:\n",
      "[4]\tvalid_0's rmse: 0.979133\n",
      "Training until validation scores don't improve for 50 rounds\n",
      "Early stopping, best iteration is:\n",
      "[4]\tvalid_0's rmse: 1.00542\n",
      "Training until validation scores don't improve for 50 rounds\n",
      "Early stopping, best iteration is:\n",
      "[2]\tvalid_0's rmse: 1.00958\n",
      "Training until validation scores don't improve for 50 rounds\n",
      "Early stopping, best iteration is:\n",
      "[1]\tvalid_0's rmse: 0.976352\n",
      "Training until validation scores don't improve for 50 rounds\n"
     ]
    },
    {
     "name": "stderr",
     "output_type": "stream",
     "text": [
      "[I 2025-08-14 23:14:18,454] Trial 20 finished with value: 1.0064516267933648 and parameters: {'boosting_type': 'gbdt', 'learning_rate': 0.02523438180339603, 'num_leaves': 157, 'max_depth': 4, 'min_child_samples': 29, 'subsample': 0.7844899386855433, 'colsample_bytree': 0.9358257978798711, 'reg_alpha': 1.3545769644477343e-07, 'reg_lambda': 4.284491926172741e-06}. Best is trial 4 with value: 1.0059326070367782.\n"
     ]
    },
    {
     "name": "stdout",
     "output_type": "stream",
     "text": [
      "Early stopping, best iteration is:\n",
      "[22]\tvalid_0's rmse: 1.06177\n",
      "Training until validation scores don't improve for 50 rounds\n",
      "Early stopping, best iteration is:\n",
      "[8]\tvalid_0's rmse: 0.9758\n",
      "Training until validation scores don't improve for 50 rounds\n",
      "Early stopping, best iteration is:\n",
      "[1]\tvalid_0's rmse: 1.00624\n",
      "Training until validation scores don't improve for 50 rounds\n",
      "Early stopping, best iteration is:\n",
      "[8]\tvalid_0's rmse: 1.00839\n",
      "Training until validation scores don't improve for 50 rounds\n",
      "Early stopping, best iteration is:\n",
      "[1]\tvalid_0's rmse: 0.976122\n",
      "Training until validation scores don't improve for 50 rounds\n",
      "Early stopping, best iteration is:\n",
      "[7]\tvalid_0's rmse: 1.06265\n"
     ]
    },
    {
     "name": "stderr",
     "output_type": "stream",
     "text": [
      "[I 2025-08-14 23:14:25,735] Trial 21 finished with value: 1.005841025504855 and parameters: {'boosting_type': 'gbdt', 'learning_rate': 0.047048455375312145, 'num_leaves': 20, 'max_depth': 3, 'min_child_samples': 20, 'subsample': 0.8047105565648796, 'colsample_bytree': 0.9546627442865881, 'reg_alpha': 6.968843480322451e-05, 'reg_lambda': 3.5029966376515844e-05}. Best is trial 21 with value: 1.005841025504855.\n"
     ]
    },
    {
     "name": "stdout",
     "output_type": "stream",
     "text": [
      "Training until validation scores don't improve for 50 rounds\n",
      "Early stopping, best iteration is:\n",
      "[8]\tvalid_0's rmse: 0.975992\n",
      "Training until validation scores don't improve for 50 rounds\n",
      "Early stopping, best iteration is:\n",
      "[1]\tvalid_0's rmse: 1.00626\n",
      "Training until validation scores don't improve for 50 rounds\n",
      "Early stopping, best iteration is:\n",
      "[8]\tvalid_0's rmse: 1.00837\n",
      "Training until validation scores don't improve for 50 rounds\n",
      "Early stopping, best iteration is:\n",
      "[24]\tvalid_0's rmse: 0.975726\n",
      "Training until validation scores don't improve for 50 rounds\n",
      "Early stopping, best iteration is:\n",
      "[20]\tvalid_0's rmse: 1.06205\n"
     ]
    },
    {
     "name": "stderr",
     "output_type": "stream",
     "text": [
      "[I 2025-08-14 23:14:33,142] Trial 22 finished with value: 1.0056800781801118 and parameters: {'boosting_type': 'gbdt', 'learning_rate': 0.04895956308561634, 'num_leaves': 58, 'max_depth': 3, 'min_child_samples': 15, 'subsample': 0.8953432004915698, 'colsample_bytree': 0.9597250236055926, 'reg_alpha': 1.9186865042305896e-05, 'reg_lambda': 6.922591585909344e-05}. Best is trial 22 with value: 1.0056800781801118.\n"
     ]
    },
    {
     "name": "stdout",
     "output_type": "stream",
     "text": [
      "Training until validation scores don't improve for 50 rounds\n",
      "Early stopping, best iteration is:\n",
      "[1]\tvalid_0's rmse: 0.981559\n",
      "Training until validation scores don't improve for 50 rounds\n",
      "Early stopping, best iteration is:\n",
      "[1]\tvalid_0's rmse: 1.00481\n",
      "Training until validation scores don't improve for 50 rounds\n",
      "Early stopping, best iteration is:\n",
      "[1]\tvalid_0's rmse: 1.0103\n",
      "Training until validation scores don't improve for 50 rounds\n",
      "Early stopping, best iteration is:\n",
      "[1]\tvalid_0's rmse: 0.976066\n",
      "Training until validation scores don't improve for 50 rounds\n"
     ]
    },
    {
     "name": "stderr",
     "output_type": "stream",
     "text": [
      "[I 2025-08-14 23:14:41,138] Trial 23 finished with value: 1.0071713216784723 and parameters: {'boosting_type': 'gbdt', 'learning_rate': 0.06937224393703352, 'num_leaves': 61, 'max_depth': 5, 'min_child_samples': 28, 'subsample': 0.9138145140464777, 'colsample_bytree': 0.881014560400324, 'reg_alpha': 9.870102975561025e-06, 'reg_lambda': 0.00012435838888646942}. Best is trial 22 with value: 1.0056800781801118.\n"
     ]
    },
    {
     "name": "stdout",
     "output_type": "stream",
     "text": [
      "Early stopping, best iteration is:\n",
      "[1]\tvalid_0's rmse: 1.06312\n",
      "Training until validation scores don't improve for 50 rounds\n",
      "Early stopping, best iteration is:\n",
      "[1]\tvalid_0's rmse: 0.980843\n",
      "Training until validation scores don't improve for 50 rounds\n",
      "Early stopping, best iteration is:\n",
      "[1]\tvalid_0's rmse: 1.00494\n",
      "Training until validation scores don't improve for 50 rounds\n",
      "Early stopping, best iteration is:\n",
      "[1]\tvalid_0's rmse: 1.01064\n",
      "Training until validation scores don't improve for 50 rounds\n",
      "Early stopping, best iteration is:\n",
      "[1]\tvalid_0's rmse: 0.976052\n",
      "Training until validation scores don't improve for 50 rounds\n"
     ]
    },
    {
     "name": "stderr",
     "output_type": "stream",
     "text": [
      "[I 2025-08-14 23:14:49,225] Trial 24 finished with value: 1.0070980333268902 and parameters: {'boosting_type': 'gbdt', 'learning_rate': 0.08944409285261586, 'num_leaves': 64, 'max_depth': 5, 'min_child_samples': 11, 'subsample': 0.894237173996822, 'colsample_bytree': 0.9320537835476113, 'reg_alpha': 8.984936441077647, 'reg_lambda': 0.04836749829424701}. Best is trial 22 with value: 1.0056800781801118.\n"
     ]
    },
    {
     "name": "stdout",
     "output_type": "stream",
     "text": [
      "Early stopping, best iteration is:\n",
      "[1]\tvalid_0's rmse: 1.06301\n",
      "Training until validation scores don't improve for 50 rounds\n",
      "Early stopping, best iteration is:\n",
      "[1]\tvalid_0's rmse: 0.979354\n",
      "Training until validation scores don't improve for 50 rounds\n",
      "Early stopping, best iteration is:\n",
      "[1]\tvalid_0's rmse: 1.00563\n",
      "Training until validation scores don't improve for 50 rounds\n",
      "Early stopping, best iteration is:\n",
      "[10]\tvalid_0's rmse: 1.00911\n",
      "Training until validation scores don't improve for 50 rounds\n",
      "Early stopping, best iteration is:\n",
      "[2]\tvalid_0's rmse: 0.976203\n",
      "Training until validation scores don't improve for 50 rounds\n"
     ]
    },
    {
     "name": "stderr",
     "output_type": "stream",
     "text": [
      "[I 2025-08-14 23:14:56,997] Trial 25 finished with value: 1.0064042584782444 and parameters: {'boosting_type': 'gbdt', 'learning_rate': 0.011706682905862393, 'num_leaves': 126, 'max_depth': 4, 'min_child_samples': 44, 'subsample': 0.7853768190358623, 'colsample_bytree': 0.8765751483235293, 'reg_alpha': 0.0003002331525542172, 'reg_lambda': 0.0008045607078841663}. Best is trial 22 with value: 1.0056800781801118.\n"
     ]
    },
    {
     "name": "stdout",
     "output_type": "stream",
     "text": [
      "[100]\tvalid_0's rmse: 1.06749\n",
      "Early stopping, best iteration is:\n",
      "[50]\tvalid_0's rmse: 1.06173\n"
     ]
    },
    {
     "name": "stderr",
     "output_type": "stream",
     "text": [
      "/home/brupesh/Documents/kaggle-drw-crypto/.venv/lib/python3.12/site-packages/lightgbm/callback.py:333: UserWarning: Early stopping is not available in dart mode\n",
      "  _log_warning(\"Early stopping is not available in dart mode\")\n"
     ]
    },
    {
     "name": "stdout",
     "output_type": "stream",
     "text": [
      "[100]\tvalid_0's rmse: 1.0271\n",
      "[200]\tvalid_0's rmse: 1.04459\n",
      "[300]\tvalid_0's rmse: 1.05348\n",
      "[400]\tvalid_0's rmse: 1.06384\n",
      "[500]\tvalid_0's rmse: 1.07498\n"
     ]
    },
    {
     "name": "stderr",
     "output_type": "stream",
     "text": [
      "/home/brupesh/Documents/kaggle-drw-crypto/.venv/lib/python3.12/site-packages/lightgbm/callback.py:333: UserWarning: Early stopping is not available in dart mode\n",
      "  _log_warning(\"Early stopping is not available in dart mode\")\n"
     ]
    },
    {
     "name": "stdout",
     "output_type": "stream",
     "text": [
      "[100]\tvalid_0's rmse: 1.0208\n",
      "[200]\tvalid_0's rmse: 1.03944\n",
      "[300]\tvalid_0's rmse: 1.0521\n",
      "[400]\tvalid_0's rmse: 1.06586\n",
      "[500]\tvalid_0's rmse: 1.0711\n"
     ]
    },
    {
     "name": "stderr",
     "output_type": "stream",
     "text": [
      "/home/brupesh/Documents/kaggle-drw-crypto/.venv/lib/python3.12/site-packages/lightgbm/callback.py:333: UserWarning: Early stopping is not available in dart mode\n",
      "  _log_warning(\"Early stopping is not available in dart mode\")\n"
     ]
    },
    {
     "name": "stdout",
     "output_type": "stream",
     "text": [
      "[100]\tvalid_0's rmse: 1.05537\n",
      "[200]\tvalid_0's rmse: 1.07138\n",
      "[300]\tvalid_0's rmse: 1.0874\n",
      "[400]\tvalid_0's rmse: 1.10366\n",
      "[500]\tvalid_0's rmse: 1.11009\n"
     ]
    },
    {
     "name": "stderr",
     "output_type": "stream",
     "text": [
      "/home/brupesh/Documents/kaggle-drw-crypto/.venv/lib/python3.12/site-packages/lightgbm/callback.py:333: UserWarning: Early stopping is not available in dart mode\n",
      "  _log_warning(\"Early stopping is not available in dart mode\")\n"
     ]
    },
    {
     "name": "stdout",
     "output_type": "stream",
     "text": [
      "[100]\tvalid_0's rmse: 1.00104\n",
      "[200]\tvalid_0's rmse: 1.00579\n",
      "[300]\tvalid_0's rmse: 1.0101\n",
      "[400]\tvalid_0's rmse: 1.01618\n",
      "[500]\tvalid_0's rmse: 1.02707\n"
     ]
    },
    {
     "name": "stderr",
     "output_type": "stream",
     "text": [
      "/home/brupesh/Documents/kaggle-drw-crypto/.venv/lib/python3.12/site-packages/lightgbm/callback.py:333: UserWarning: Early stopping is not available in dart mode\n",
      "  _log_warning(\"Early stopping is not available in dart mode\")\n"
     ]
    },
    {
     "name": "stdout",
     "output_type": "stream",
     "text": [
      "[100]\tvalid_0's rmse: 1.13041\n",
      "[200]\tvalid_0's rmse: 1.17905\n",
      "[300]\tvalid_0's rmse: 1.19765\n",
      "[400]\tvalid_0's rmse: 1.2262\n",
      "[500]\tvalid_0's rmse: 1.23369\n"
     ]
    },
    {
     "name": "stderr",
     "output_type": "stream",
     "text": [
      "[I 2025-08-14 23:16:01,813] Trial 26 finished with value: 1.1033880750372185 and parameters: {'boosting_type': 'dart', 'learning_rate': 0.047260576001713475, 'num_leaves': 233, 'max_depth': 7, 'min_child_samples': 29, 'subsample': 0.500546646483125, 'colsample_bytree': 0.8088983730025193, 'reg_alpha': 1.2722267461119129e-06, 'reg_lambda': 1.3863778851124457e-07}. Best is trial 22 with value: 1.0056800781801118.\n"
     ]
    },
    {
     "name": "stdout",
     "output_type": "stream",
     "text": [
      "Training until validation scores don't improve for 50 rounds\n",
      "Early stopping, best iteration is:\n",
      "[8]\tvalid_0's rmse: 0.977477\n",
      "Training until validation scores don't improve for 50 rounds\n",
      "Early stopping, best iteration is:\n",
      "[1]\tvalid_0's rmse: 1.00599\n",
      "Training until validation scores don't improve for 50 rounds\n",
      "Early stopping, best iteration is:\n",
      "[15]\tvalid_0's rmse: 1.00815\n",
      "Training until validation scores don't improve for 50 rounds\n",
      "Early stopping, best iteration is:\n",
      "[8]\tvalid_0's rmse: 0.976103\n",
      "Training until validation scores don't improve for 50 rounds\n",
      "Early stopping, best iteration is:\n",
      "[20]\tvalid_0's rmse: 1.06309\n"
     ]
    },
    {
     "name": "stderr",
     "output_type": "stream",
     "text": [
      "[I 2025-08-14 23:16:09,322] Trial 27 finished with value: 1.00616101428522 and parameters: {'boosting_type': 'gbdt', 'learning_rate': 0.021389144900453856, 'num_leaves': 52, 'max_depth': 3, 'min_child_samples': 14, 'subsample': 0.952168058262806, 'colsample_bytree': 0.9725428108628711, 'reg_alpha': 0.0016231847028064501, 'reg_lambda': 5.0781571310490656e-05}. Best is trial 22 with value: 1.0056800781801118.\n"
     ]
    },
    {
     "name": "stdout",
     "output_type": "stream",
     "text": [
      "Training until validation scores don't improve for 50 rounds\n",
      "Early stopping, best iteration is:\n",
      "[1]\tvalid_0's rmse: 0.979435\n",
      "Training until validation scores don't improve for 50 rounds\n",
      "Early stopping, best iteration is:\n",
      "[14]\tvalid_0's rmse: 1.00415\n",
      "Training until validation scores don't improve for 50 rounds\n",
      "Early stopping, best iteration is:\n",
      "[1]\tvalid_0's rmse: 1.00953\n",
      "Training until validation scores don't improve for 50 rounds\n",
      "Early stopping, best iteration is:\n",
      "[4]\tvalid_0's rmse: 0.976095\n",
      "Training until validation scores don't improve for 50 rounds\n"
     ]
    },
    {
     "name": "stderr",
     "output_type": "stream",
     "text": [
      "[I 2025-08-14 23:16:17,699] Trial 28 finished with value: 1.0061479420361872 and parameters: {'boosting_type': 'gbdt', 'learning_rate': 0.009049660698918067, 'num_leaves': 163, 'max_depth': 5, 'min_child_samples': 28, 'subsample': 0.6982100405540893, 'colsample_bytree': 0.9995693716450049, 'reg_alpha': 0.0001365869371658507, 'reg_lambda': 4.3643017456046687e-07}. Best is trial 22 with value: 1.0056800781801118.\n"
     ]
    },
    {
     "name": "stdout",
     "output_type": "stream",
     "text": [
      "[100]\tvalid_0's rmse: 1.07445\n",
      "Early stopping, best iteration is:\n",
      "[51]\tvalid_0's rmse: 1.06153\n",
      "Training until validation scores don't improve for 50 rounds\n",
      "Early stopping, best iteration is:\n",
      "[1]\tvalid_0's rmse: 0.979317\n",
      "Training until validation scores don't improve for 50 rounds\n",
      "Early stopping, best iteration is:\n",
      "[1]\tvalid_0's rmse: 1.00569\n",
      "Training until validation scores don't improve for 50 rounds\n",
      "Early stopping, best iteration is:\n",
      "[1]\tvalid_0's rmse: 1.0095\n",
      "Training until validation scores don't improve for 50 rounds\n",
      "Early stopping, best iteration is:\n",
      "[2]\tvalid_0's rmse: 0.976132\n",
      "Training until validation scores don't improve for 50 rounds\n"
     ]
    },
    {
     "name": "stderr",
     "output_type": "stream",
     "text": [
      "[I 2025-08-14 23:16:28,229] Trial 29 finished with value: 1.0068639458931326 and parameters: {'boosting_type': 'gbdt', 'learning_rate': 0.00578176009636947, 'num_leaves': 109, 'max_depth': 9, 'min_child_samples': 78, 'subsample': 0.6093566522343654, 'colsample_bytree': 0.9075907091169069, 'reg_alpha': 2.923655545640154e-05, 'reg_lambda': 0.00032012960707583995}. Best is trial 22 with value: 1.0056800781801118.\n"
     ]
    },
    {
     "name": "stdout",
     "output_type": "stream",
     "text": [
      "Early stopping, best iteration is:\n",
      "[1]\tvalid_0's rmse: 1.06369\n"
     ]
    }
   ],
   "source": [
    "def objective(trial):\n",
    "    params = {\n",
    "        \"objective\": \"regression\",\n",
    "        \"metric\": \"rmse\",\n",
    "        \"boosting_type\": trial.suggest_categorical(\"boosting_type\", [\"gbdt\", \"dart\"]),\n",
    "        \"learning_rate\": trial.suggest_float(\"learning_rate\", 1e-3, 0.2, log=True),\n",
    "        \"num_leaves\": trial.suggest_int(\"num_leaves\", 16, 512),\n",
    "        \"max_depth\": trial.suggest_int(\"max_depth\", 3, 12),\n",
    "        \"min_child_samples\": trial.suggest_int(\"min_child_samples\", 5, 100),\n",
    "        \"feature_pre_filter\": False,\n",
    "        \"subsample\": trial.suggest_float(\"subsample\", 0.5, 1.0),\n",
    "        \"colsample_bytree\": trial.suggest_float(\"colsample_bytree\", 0.5, 1.0),\n",
    "        \"reg_alpha\": trial.suggest_float(\"reg_alpha\", 1e-8, 10.0, log=True),\n",
    "        \"reg_lambda\": trial.suggest_float(\"reg_lambda\", 1e-8, 10.0, log=True),\n",
    "        \"device\": \"gpu\",\n",
    "        \"gpu_platform_id\": 0,\n",
    "        \"gpu_device_id\": 0,\n",
    "        \"verbosity\": -1\n",
    "    }\n",
    "\n",
    "    rmse_scores = []\n",
    "    train_rmse_scores = []\n",
    "    r2_scores = []\n",
    "    pearson_scores = []\n",
    "    overfit_scores = []\n",
    "\n",
    "    for fold, (train_idx, val_idx) in enumerate(tscv.split(X)):\n",
    "        X_train, X_val = X.iloc[train_idx], X.iloc[val_idx]\n",
    "        y_train, y_val = y.iloc[train_idx], y.iloc[val_idx]\n",
    "\n",
    "        dtrain = lgb.Dataset(X_train, label=y_train)\n",
    "        dval = lgb.Dataset(X_val, label=y_val)\n",
    "\n",
    "        model = lgb.train(\n",
    "            params,\n",
    "            dtrain,\n",
    "            num_boost_round=500,\n",
    "            valid_sets=[dval],\n",
    "            callbacks=[lgb.early_stopping(50), lgb.log_evaluation(100)]\n",
    "        )\n",
    "\n",
    "        preds_val = model.predict(X_val)\n",
    "        preds_train = model.predict(X_train)\n",
    "\n",
    "        rmse_val = root_mean_squared_error(y_val, preds_val)\n",
    "        rmse_train = root_mean_squared_error(y_train, preds_train)\n",
    "        r2_val = r2_score(y_val, preds_val)\n",
    "        pearson = pd.Series(preds_val).corr(pd.Series(y_val))\n",
    "        overfit = rmse_val - rmse_train\n",
    "\n",
    "        rmse_scores.append(rmse_val)\n",
    "        train_rmse_scores.append(rmse_train)\n",
    "        r2_scores.append(r2_val)\n",
    "        pearson_scores.append(pearson)\n",
    "        overfit_scores.append(overfit)\n",
    "\n",
    "    wandb.log({\n",
    "        \"avg_rmse\": np.mean(rmse_scores),\n",
    "        \"avg_train_rmse\": np.mean(train_rmse_scores),\n",
    "        \"avg_r2\": np.mean(r2_scores),\n",
    "        \"avg_pearson\": np.mean(pearson_scores),\n",
    "        \"avg_overfit\": np.mean(overfit_scores)\n",
    "    }, step=trial.number)\n",
    "\n",
    "    return np.mean(rmse_scores)\n",
    "\n",
    "\n",
    "study = optuna.create_study(direction=\"minimize\")\n",
    "study.optimize(objective, n_trials=30, callbacks=[WeightsAndBiasesCallback()])"
   ]
  },
  {
   "cell_type": "code",
   "execution_count": 9,
   "id": "1bc75bab",
   "metadata": {},
   "outputs": [
    {
     "name": "stdout",
     "output_type": "stream",
     "text": [
      "Best trial number: 22\n",
      "Best avg RMSE: 1.0056800781801118\n",
      "Best trial params:\n",
      "  boosting_type: gbdt\n",
      "  learning_rate: 0.04895956308561634\n",
      "  num_leaves: 58\n",
      "  max_depth: 3\n",
      "  min_child_samples: 15\n",
      "  subsample: 0.8953432004915698\n",
      "  colsample_bytree: 0.9597250236055926\n",
      "  reg_alpha: 1.9186865042305896e-05\n",
      "  reg_lambda: 6.922591585909344e-05\n"
     ]
    }
   ],
   "source": [
    "print(f\"Best trial number: {study.best_trial.number}\")\n",
    "print(f\"Best avg RMSE: {study.best_value}\")\n",
    "print(\"Best trial params:\")\n",
    "for k, v in study.best_trial.params.items():\n",
    "    print(f\"  {k}: {v}\")"
   ]
  },
  {
   "cell_type": "code",
   "execution_count": 10,
   "id": "f7f1d3af",
   "metadata": {},
   "outputs": [
    {
     "name": "stdout",
     "output_type": "stream",
     "text": [
      "Training until validation scores don't improve for 50 rounds\n",
      "[100]\tvalid_0's rmse: 0.93846\n",
      "[200]\tvalid_0's rmse: 0.892449\n",
      "[300]\tvalid_0's rmse: 0.857334\n",
      "[400]\tvalid_0's rmse: 0.829413\n",
      "[500]\tvalid_0's rmse: 0.80452\n",
      "[600]\tvalid_0's rmse: 0.780467\n",
      "[700]\tvalid_0's rmse: 0.759629\n",
      "[800]\tvalid_0's rmse: 0.740964\n",
      "[900]\tvalid_0's rmse: 0.723858\n",
      "[1000]\tvalid_0's rmse: 0.707923\n",
      "Did not meet early stopping. Best iteration is:\n",
      "[1000]\tvalid_0's rmse: 0.707923\n"
     ]
    },
    {
     "data": {
      "text/plain": [
       "<lightgbm.basic.Booster at 0x7fab6b21a1e0>"
      ]
     },
     "execution_count": 10,
     "metadata": {},
     "output_type": "execute_result"
    }
   ],
   "source": [
    "best_params = study.best_trial.params\n",
    "best_params.update({\"objective\": \"regression\", \"metric\": \"rmse\", \"device\": \"gpu\", \"gpu_platform_id\": 0, \"gpu_device_id\": 0})\n",
    "model = lgb.train(\n",
    "    best_params,\n",
    "    dtrain,\n",
    "    num_boost_round=1000,\n",
    "    valid_sets=[dval],\n",
    "    callbacks=[\n",
    "        lgb.early_stopping(50),\n",
    "        lgb.log_evaluation(100)\n",
    "    ]\n",
    ")\n",
    "\n",
    "model.save_model(\"../data/models/lightgbm_opt_model_1.txt\")"
   ]
  },
  {
   "cell_type": "code",
   "execution_count": 11,
   "id": "31fa5889",
   "metadata": {},
   "outputs": [
    {
     "data": {
      "text/html": [],
      "text/plain": [
       "<IPython.core.display.HTML object>"
      ]
     },
     "metadata": {},
     "output_type": "display_data"
    },
    {
     "data": {
      "text/html": [
       "<br>    <style><br>        .wandb-row {<br>            display: flex;<br>            flex-direction: row;<br>            flex-wrap: wrap;<br>            justify-content: flex-start;<br>            width: 100%;<br>        }<br>        .wandb-col {<br>            display: flex;<br>            flex-direction: column;<br>            flex-basis: 100%;<br>            flex: 1;<br>            padding: 10px;<br>        }<br>    </style><br><div class=\"wandb-row\"><div class=\"wandb-col\"><h3>Run history:</h3><br/><table class=\"wandb\"><tr><td>avg_overfit</td><td>▁▁█▄▁▁▁▅█▁▁▁▁▁▁▁▁▁▁▁▁▁▁▁▁▁▆▁▁▁</td></tr><tr><td>avg_r2</td><td>██▁▆███▅▃█████████████████▃███</td></tr><tr><td>avg_rmse</td><td>▁▁█▄▁▁▁▄▆▁▁▁▁▁▁▁▁▁▁▁▁▁▁▁▁▁▆▁▁▁</td></tr><tr><td>avg_train_rmse</td><td>██▁▄███▄▁█████████████████▃███</td></tr><tr><td>colsample_bytree</td><td>▁▃▄▁▆▃▅▄▁▄▇▇█▆▇▆▇█▆▆▇▇▇▆▇▆▅██▇</td></tr><tr><td>learning_rate</td><td>▁▁▆▁▁▁▁▂▃▁▂▂▁▂▄▂▁▃█▁▂▃▃▃▄▁▃▂▁▁</td></tr><tr><td>max_depth</td><td>▆▃▆▇▃▆▃▇█▇▁▁▁▃▅▂▅▃▂▄▂▁▁▃▃▂▄▁▃▆</td></tr><tr><td>min_child_samples</td><td>▆▅▅█▄▅█▅▆▆▂▂▂▃▁▃▃▂▁▄▃▂▂▃▁▄▃▂▃▇</td></tr><tr><td>num_leaves</td><td>▆▅▂▆▃▆▆▅█▃▁▁▃▁▃▄▂▂▇▄▃▁▂▂▂▃▄▂▃▂</td></tr><tr><td>reg_alpha</td><td>▁▂▁▁▁▁▁▁▁▁▁▁▁▁▁▁▁▁▁▁▁▁▁▁█▁▁▁▁▁</td></tr><tr><td>reg_lambda</td><td>▁▁▁▁▁▁▁█▂▂▁▁▁▁▁▁▁▁▁▁▁▁▁▁▁▁▁▁▁▁</td></tr><tr><td>subsample</td><td>▇▅▇▂▃▂▂▄▃▂▅▆▆▃▆█▄▃▆▄▅▅▇▇▇▅▁▇▄▃</td></tr><tr><td>value</td><td>▁▁█▄▁▁▁▄▆▁▁▁▁▁▁▁▁▁▁▁▁▁▁▁▁▁▆▁▁▁</td></tr></table><br/></div><div class=\"wandb-col\"><h3>Run summary:</h3><br/><table class=\"wandb\"><tr><td>avg_overfit</td><td>0.0021</td></tr><tr><td>avg_pearson</td><td>nan</td></tr><tr><td>avg_r2</td><td>-0.00255</td></tr><tr><td>avg_rmse</td><td>1.00686</td></tr><tr><td>avg_train_rmse</td><td>1.00477</td></tr><tr><td>boosting_type</td><td>gbdt</td></tr><tr><td>colsample_bytree</td><td>0.90759</td></tr><tr><td>learning_rate</td><td>0.00578</td></tr><tr><td>max_depth</td><td>9</td></tr><tr><td>min_child_samples</td><td>78</td></tr><tr><td>num_leaves</td><td>109</td></tr><tr><td>reg_alpha</td><td>3e-05</td></tr><tr><td>reg_lambda</td><td>0.00032</td></tr><tr><td>subsample</td><td>0.60936</td></tr><tr><td>value</td><td>1.00686</td></tr></table><br/></div></div>"
      ],
      "text/plain": [
       "<IPython.core.display.HTML object>"
      ]
     },
     "metadata": {},
     "output_type": "display_data"
    },
    {
     "data": {
      "text/html": [
       " View run <strong style=\"color:#cdcd00\">mild-dragon-23</strong> at: <a href='https://wandb.ai/brupeshmit-massachusetts-institute-of-technology/kaggle-drw-crypto-notebooks/runs/18eaabuz' target=\"_blank\">https://wandb.ai/brupeshmit-massachusetts-institute-of-technology/kaggle-drw-crypto-notebooks/runs/18eaabuz</a><br> View project at: <a href='https://wandb.ai/brupeshmit-massachusetts-institute-of-technology/kaggle-drw-crypto-notebooks' target=\"_blank\">https://wandb.ai/brupeshmit-massachusetts-institute-of-technology/kaggle-drw-crypto-notebooks</a><br>Synced 5 W&B file(s), 0 media file(s), 0 artifact file(s) and 0 other file(s)"
      ],
      "text/plain": [
       "<IPython.core.display.HTML object>"
      ]
     },
     "metadata": {},
     "output_type": "display_data"
    },
    {
     "data": {
      "text/html": [
       "Find logs at: <code>../data/wandb_logs/wandb/run-20250814_230105-18eaabuz/logs</code>"
      ],
      "text/plain": [
       "<IPython.core.display.HTML object>"
      ]
     },
     "metadata": {},
     "output_type": "display_data"
    }
   ],
   "source": [
    "preds = model.predict(test)\n",
    "pd.DataFrame({\"id\": test_ids, \"prediction\": preds}).to_csv(\"../data/preds/lightgbm_opt1_preds.csv\", index=False)\n",
    "\n",
    "wandb.finish()"
   ]
  }
 ],
 "metadata": {
  "kernelspec": {
   "display_name": ".venv",
   "language": "python",
   "name": "python3"
  },
  "language_info": {
   "codemirror_mode": {
    "name": "ipython",
    "version": 3
   },
   "file_extension": ".py",
   "mimetype": "text/x-python",
   "name": "python",
   "nbconvert_exporter": "python",
   "pygments_lexer": "ipython3",
   "version": "3.12.3"
  }
 },
 "nbformat": 4,
 "nbformat_minor": 5
}
