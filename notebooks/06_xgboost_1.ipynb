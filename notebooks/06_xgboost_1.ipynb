{
 "cells": [
  {
   "cell_type": "code",
   "execution_count": 1,
   "id": "608a523c",
   "metadata": {
    "execution": {
     "iopub.execute_input": "2025-06-16T16:59:55.255630Z",
     "iopub.status.busy": "2025-06-16T16:59:55.255415Z",
     "iopub.status.idle": "2025-06-16T17:00:06.297878Z",
     "shell.execute_reply": "2025-06-16T17:00:06.297315Z"
    },
    "papermill": {
     "duration": 11.046987,
     "end_time": "2025-06-16T17:00:06.299202",
     "exception": false,
     "start_time": "2025-06-16T16:59:55.252215",
     "status": "completed"
    },
    "tags": []
   },
   "outputs": [],
   "source": [
    "import pandas as pd\n",
    "import numpy as np\n",
    "\n",
    "import numpy as np\n",
    "import pandas as pd\n",
    "from sklearn.model_selection import KFold\n",
    "from xgboost import XGBRegressor\n",
    "from scipy.stats import pearsonr"
   ]
  },
  {
   "cell_type": "code",
   "execution_count": 2,
   "id": "8fbcbc34",
   "metadata": {
    "execution": {
     "iopub.execute_input": "2025-06-16T17:00:06.340290Z",
     "iopub.status.busy": "2025-06-16T17:00:06.340096Z",
     "iopub.status.idle": "2025-06-16T17:00:56.678259Z",
     "shell.execute_reply": "2025-06-16T17:00:56.677595Z"
    },
    "papermill": {
     "duration": 50.34272,
     "end_time": "2025-06-16T17:00:56.679728",
     "exception": false,
     "start_time": "2025-06-16T17:00:06.337008",
     "status": "completed"
    },
    "tags": []
   },
   "outputs": [],
   "source": [
    "train = pd.read_parquet(\"../data/train_clean_v3.parquet\").reset_index(drop=True)\n",
    "test = pd.read_parquet(\"../data/test_clean_v3.parquet\").reset_index(drop=True)\n",
    "sample=pd.read_csv(\"../data/preds/sample_submission.csv\")"
   ]
  },
  {
   "cell_type": "markdown",
   "id": "dfc07ab5",
   "metadata": {
    "papermill": {
     "duration": 0.002778,
     "end_time": "2025-06-16T17:00:56.685711",
     "exception": false,
     "start_time": "2025-06-16T17:00:56.682933",
     "status": "completed"
    },
    "tags": []
   },
   "source": [
    "### Selected features based on correlation and LightGBM feat importance"
   ]
  },
  {
   "cell_type": "code",
   "execution_count": 4,
   "id": "63f9a0e3",
   "metadata": {
    "execution": {
     "iopub.execute_input": "2025-06-16T17:00:56.692158Z",
     "iopub.status.busy": "2025-06-16T17:00:56.691905Z",
     "iopub.status.idle": "2025-06-16T17:00:56.881420Z",
     "shell.execute_reply": "2025-06-16T17:00:56.880802Z"
    },
    "papermill": {
     "duration": 0.194395,
     "end_time": "2025-06-16T17:00:56.882808",
     "exception": false,
     "start_time": "2025-06-16T17:00:56.688413",
     "status": "completed"
    },
    "tags": []
   },
   "outputs": [
    {
     "ename": "NameError",
     "evalue": "name 'train' is not defined",
     "output_type": "error",
     "traceback": [
      "\u001b[31m---------------------------------------------------------------------------\u001b[39m",
      "\u001b[31mNameError\u001b[39m                                 Traceback (most recent call last)",
      "\u001b[36mCell\u001b[39m\u001b[36m \u001b[39m\u001b[32mIn[4]\u001b[39m\u001b[32m, line 9\u001b[39m\n\u001b[32m      1\u001b[39m selected_features = [\n\u001b[32m      2\u001b[39m     \u001b[33m\"\u001b[39m\u001b[33mX863\u001b[39m\u001b[33m\"\u001b[39m, \u001b[33m\"\u001b[39m\u001b[33mX856\u001b[39m\u001b[33m\"\u001b[39m, \u001b[33m\"\u001b[39m\u001b[33mX344\u001b[39m\u001b[33m\"\u001b[39m, \u001b[33m\"\u001b[39m\u001b[33mX598\u001b[39m\u001b[33m\"\u001b[39m, \u001b[33m\"\u001b[39m\u001b[33mX862\u001b[39m\u001b[33m\"\u001b[39m, \u001b[33m\"\u001b[39m\u001b[33mX385\u001b[39m\u001b[33m\"\u001b[39m, \u001b[33m\"\u001b[39m\u001b[33mX852\u001b[39m\u001b[33m\"\u001b[39m, \u001b[33m\"\u001b[39m\u001b[33mX603\u001b[39m\u001b[33m\"\u001b[39m, \u001b[33m\"\u001b[39m\u001b[33mX860\u001b[39m\u001b[33m\"\u001b[39m, \u001b[33m\"\u001b[39m\u001b[33mX674\u001b[39m\u001b[33m\"\u001b[39m,\n\u001b[32m      3\u001b[39m     \u001b[33m\"\u001b[39m\u001b[33mX415\u001b[39m\u001b[33m\"\u001b[39m, \u001b[33m\"\u001b[39m\u001b[33mX345\u001b[39m\u001b[33m\"\u001b[39m, \u001b[33m\"\u001b[39m\u001b[33mX137\u001b[39m\u001b[33m\"\u001b[39m, \u001b[33m\"\u001b[39m\u001b[33mX855\u001b[39m\u001b[33m\"\u001b[39m, \u001b[33m\"\u001b[39m\u001b[33mX174\u001b[39m\u001b[33m\"\u001b[39m, \u001b[33m\"\u001b[39m\u001b[33mX302\u001b[39m\u001b[33m\"\u001b[39m, \u001b[33m\"\u001b[39m\u001b[33mX178\u001b[39m\u001b[33m\"\u001b[39m, \u001b[33m\"\u001b[39m\u001b[33mX532\u001b[39m\u001b[33m\"\u001b[39m, \u001b[33m\"\u001b[39m\u001b[33mX168\u001b[39m\u001b[33m\"\u001b[39m, \u001b[33m\"\u001b[39m\u001b[33mX612\u001b[39m\u001b[33m\"\u001b[39m,\n\u001b[32m      4\u001b[39m     \u001b[33m\"\u001b[39m\u001b[33mX888\u001b[39m\u001b[33m\"\u001b[39m,\u001b[33m\"\u001b[39m\u001b[33mX421\u001b[39m\u001b[33m\"\u001b[39m,\u001b[33m\"\u001b[39m\u001b[33mX333\u001b[39m\u001b[33m\"\u001b[39m,\n\u001b[32m      5\u001b[39m     \u001b[33m\"\u001b[39m\u001b[33mbid_qty\u001b[39m\u001b[33m\"\u001b[39m, \u001b[33m\"\u001b[39m\u001b[33mask_qty\u001b[39m\u001b[33m\"\u001b[39m, \u001b[33m\"\u001b[39m\u001b[33mbuy_qty\u001b[39m\u001b[33m\"\u001b[39m, \u001b[33m\"\u001b[39m\u001b[33msell_qty\u001b[39m\u001b[33m\"\u001b[39m, \u001b[33m\"\u001b[39m\u001b[33mvolume\u001b[39m\u001b[33m\"\u001b[39m\n\u001b[32m      6\u001b[39m ]\n\u001b[32m----> \u001b[39m\u001b[32m9\u001b[39m train= \u001b[43mtrain\u001b[49m[selected_features + [\u001b[33m\"\u001b[39m\u001b[33mlabel\u001b[39m\u001b[33m\"\u001b[39m]]\n\u001b[32m     10\u001b[39m test= test[selected_features]\n",
      "\u001b[31mNameError\u001b[39m: name 'train' is not defined"
     ]
    }
   ],
   "source": [
    "selected_features = [\n",
    "    \"X863\", \"X856\", \"X344\", \"X598\", \"X862\", \"X385\", \"X852\", \"X603\", \"X860\", \"X674\",\n",
    "    \"X415\", \"X345\", \"X137\", \"X855\", \"X174\", \"X302\", \"X178\", \"X532\", \"X168\", \"X612\",\n",
    "    \"X888\",\"X421\",\"X333\",\n",
    "    \"bid_qty\", \"ask_qty\", \"buy_qty\", \"sell_qty\", \"volume\"\n",
    "]\n",
    "\n",
    "\n",
    "train= train[selected_features + [\"label\"]]\n",
    "test= test[selected_features]"
   ]
  },
  {
   "cell_type": "code",
   "execution_count": null,
   "id": "458dfcd4",
   "metadata": {
    "execution": {
     "iopub.execute_input": "2025-06-16T17:00:57.196951Z",
     "iopub.status.busy": "2025-06-16T17:00:57.196710Z",
     "iopub.status.idle": "2025-06-16T17:00:57.200898Z",
     "shell.execute_reply": "2025-06-16T17:00:57.199988Z"
    },
    "papermill": {
     "duration": 0.009082,
     "end_time": "2025-06-16T17:00:57.202042",
     "exception": false,
     "start_time": "2025-06-16T17:00:57.192960",
     "status": "completed"
    },
    "tags": []
   },
   "outputs": [
    {
     "name": "stdout",
     "output_type": "stream",
     "text": [
      "Train= (525887, 29)\n",
      "Test= (538150, 28)\n",
      "Sample= (538150, 2)\n"
     ]
    }
   ],
   "source": [
    "print(\"Train=\",train.shape)\n",
    "print(\"Test=\",test.shape)\n",
    "print(\"Sample=\",sample.shape)"
   ]
  },
  {
   "cell_type": "code",
   "execution_count": null,
   "id": "06fd8e35",
   "metadata": {
    "execution": {
     "iopub.execute_input": "2025-06-16T17:00:57.208903Z",
     "iopub.status.busy": "2025-06-16T17:00:57.208701Z",
     "iopub.status.idle": "2025-06-16T17:00:57.212879Z",
     "shell.execute_reply": "2025-06-16T17:00:57.212291Z"
    },
    "papermill": {
     "duration": 0.00888,
     "end_time": "2025-06-16T17:00:57.214037",
     "exception": false,
     "start_time": "2025-06-16T17:00:57.205157",
     "status": "completed"
    },
    "tags": []
   },
   "outputs": [
    {
     "name": "stdout",
     "output_type": "stream",
     "text": [
      "There are 28 FEATURES: ['X863', 'X856', 'X344', 'X598', 'X862', 'X385', 'X852', 'X603', 'X860', 'X674', 'X415', 'X345', 'X137', 'X855', 'X174', 'X302', 'X178', 'X532', 'X168', 'X612', 'X888', 'X421', 'X333', 'bid_qty', 'ask_qty', 'buy_qty', 'sell_qty', 'volume']\n"
     ]
    }
   ],
   "source": [
    "RMV = [\"label\"]\n",
    "FEATURES = [c for c in train.columns if not c in RMV]\n",
    "print(f\"There are {len(FEATURES)} FEATURES: {FEATURES}\")"
   ]
  },
  {
   "cell_type": "markdown",
   "id": "615389a5",
   "metadata": {
    "papermill": {
     "duration": 0.003029,
     "end_time": "2025-06-16T17:00:57.220025",
     "exception": false,
     "start_time": "2025-06-16T17:00:57.216996",
     "status": "completed"
    },
    "tags": []
   },
   "source": [
    "### KFold Cross-Validation"
   ]
  },
  {
   "cell_type": "code",
   "execution_count": 6,
   "id": "20621366",
   "metadata": {
    "execution": {
     "iopub.execute_input": "2025-06-16T17:00:57.233141Z",
     "iopub.status.busy": "2025-06-16T17:00:57.232936Z",
     "iopub.status.idle": "2025-06-16T17:01:51.534613Z",
     "shell.execute_reply": "2025-06-16T17:01:51.533704Z"
    },
    "papermill": {
     "duration": 54.306874,
     "end_time": "2025-06-16T17:01:51.535716",
     "exception": false,
     "start_time": "2025-06-16T17:00:57.228842",
     "status": "completed"
    },
    "tags": []
   },
   "outputs": [
    {
     "name": "stdout",
     "output_type": "stream",
     "text": [
      "#########################\n",
      "### Fold 1\n",
      "#########################\n",
      "[0]\tvalidation_0-rmse:1.00931\n",
      "[200]\tvalidation_0-rmse:1.00105\n",
      "[400]\tvalidation_0-rmse:0.99837\n",
      "[600]\tvalidation_0-rmse:0.99843\n",
      "[800]\tvalidation_0-rmse:0.99861\n",
      "[1000]\tvalidation_0-rmse:0.99905\n",
      "[1200]\tvalidation_0-rmse:0.99926\n",
      "[1400]\tvalidation_0-rmse:0.99968\n",
      "[1600]\tvalidation_0-rmse:1.00014\n",
      "[1666]\tvalidation_0-rmse:1.00027\n",
      "#########################\n",
      "### Fold 2\n",
      "#########################\n",
      "[0]\tvalidation_0-rmse:0.94909\n",
      "[200]\tvalidation_0-rmse:0.94529\n",
      "[400]\tvalidation_0-rmse:0.94552\n",
      "[600]\tvalidation_0-rmse:0.94570\n",
      "[800]\tvalidation_0-rmse:0.94634\n",
      "[1000]\tvalidation_0-rmse:0.94682\n",
      "[1200]\tvalidation_0-rmse:0.94666\n",
      "[1400]\tvalidation_0-rmse:0.94698\n",
      "[1600]\tvalidation_0-rmse:0.94716\n",
      "[1666]\tvalidation_0-rmse:0.94719\n",
      "#########################\n",
      "### Fold 3\n",
      "#########################\n",
      "[0]\tvalidation_0-rmse:1.02343\n",
      "[200]\tvalidation_0-rmse:1.02377\n",
      "[400]\tvalidation_0-rmse:1.02550\n",
      "[600]\tvalidation_0-rmse:1.02570\n",
      "[800]\tvalidation_0-rmse:1.02609\n",
      "[1000]\tvalidation_0-rmse:1.02670\n",
      "[1200]\tvalidation_0-rmse:1.02716\n",
      "[1400]\tvalidation_0-rmse:1.02775\n",
      "[1600]\tvalidation_0-rmse:1.02824\n",
      "[1666]\tvalidation_0-rmse:1.02822\n",
      "#########################\n",
      "### Fold 4\n",
      "#########################\n",
      "[0]\tvalidation_0-rmse:1.02649\n",
      "[200]\tvalidation_0-rmse:1.01690\n",
      "[400]\tvalidation_0-rmse:1.01451\n",
      "[600]\tvalidation_0-rmse:1.01316\n",
      "[800]\tvalidation_0-rmse:1.01191\n",
      "[1000]\tvalidation_0-rmse:1.01204\n",
      "[1200]\tvalidation_0-rmse:1.01205\n",
      "[1400]\tvalidation_0-rmse:1.01205\n",
      "[1600]\tvalidation_0-rmse:1.01196\n",
      "[1666]\tvalidation_0-rmse:1.01218\n",
      "#########################\n",
      "### Fold 5\n",
      "#########################\n",
      "[0]\tvalidation_0-rmse:1.04048\n",
      "[200]\tvalidation_0-rmse:1.04138\n",
      "[400]\tvalidation_0-rmse:1.04556\n",
      "[600]\tvalidation_0-rmse:1.04890\n",
      "[800]\tvalidation_0-rmse:1.05146\n",
      "[1000]\tvalidation_0-rmse:1.05281\n",
      "[1200]\tvalidation_0-rmse:1.05515\n",
      "[1400]\tvalidation_0-rmse:1.05638\n",
      "[1600]\tvalidation_0-rmse:1.05779\n",
      "[1666]\tvalidation_0-rmse:1.05786\n",
      "Final Pearson Correlation =  0.10014780720779796\n"
     ]
    }
   ],
   "source": [
    "FOLDS = 5\n",
    "kf = KFold(n_splits=FOLDS)\n",
    "\n",
    "oof_preds = np.zeros(len(train))\n",
    "test_preds = np.zeros(len(test))\n",
    "\n",
    "xgb_params = {\n",
    "    \"tree_method\": \"gpu_hist\",\n",
    "    \"predictor\": \"gpu_predictor\",\n",
    "    \"gpu_id\": 0,\n",
    "    \"colsample_bylevel\": 0.4778015829774066,\n",
    "    \"colsample_bynode\": 0.362764358742407,\n",
    "    \"colsample_bytree\": 0.7107423488010493,\n",
    "    \"gamma\": 1.7094857725240398,\n",
    "    \"learning_rate\": 0.02213323588455387,\n",
    "    \"max_depth\": 20,\n",
    "    \"max_leaves\": 12,\n",
    "    \"min_child_weight\": 16,\n",
    "    \"n_estimators\": 1667,\n",
    "    \"n_jobs\": -1,\n",
    "    \"random_state\": 42,\n",
    "    \"reg_alpha\": 39.352415706891264,\n",
    "    \"reg_lambda\": 75.44843704068275,\n",
    "    \"subsample\": 0.06566669853471274,\n",
    "    \"verbosity\": 0\n",
    "}\n",
    "\n",
    "for i, (train_idx, valid_idx) in enumerate(kf.split(train)):\n",
    "    print(\"#\" * 25)\n",
    "    print(f\"### Fold {i + 1}\")\n",
    "    print(\"#\" * 25)\n",
    "\n",
    "    X_train = train.iloc[train_idx][FEATURES]\n",
    "    y_train = train.iloc[train_idx][\"label\"]\n",
    "    X_valid = train.iloc[valid_idx][FEATURES]\n",
    "    y_valid = train.iloc[valid_idx][\"label\"]\n",
    "    X_test = test[FEATURES]\n",
    "\n",
    "    model = XGBRegressor(**xgb_params)\n",
    "\n",
    "    model.fit(\n",
    "        X_train, y_train,\n",
    "        eval_set=[(X_valid, y_valid)],\n",
    "        verbose=200\n",
    "    )\n",
    "\n",
    "    oof_preds[valid_idx] = model.predict(X_valid)\n",
    "    test_preds += model.predict(X_test)\n",
    "\n",
    "pearson_score = pearsonr(train[\"label\"], oof_preds)[0]\n",
    "print(\"Final Pearson Correlation = \", pearson_score)\n",
    "\n",
    "test_preds /= FOLDS"
   ]
  },
  {
   "cell_type": "code",
   "execution_count": 8,
   "id": "506ac7ab",
   "metadata": {
    "execution": {
     "iopub.execute_input": "2025-06-16T17:03:01.558326Z",
     "iopub.status.busy": "2025-06-16T17:03:01.558119Z",
     "iopub.status.idle": "2025-06-16T17:03:02.638400Z",
     "shell.execute_reply": "2025-06-16T17:03:02.637714Z"
    },
    "papermill": {
     "duration": 1.091017,
     "end_time": "2025-06-16T17:03:02.639576",
     "exception": false,
     "start_time": "2025-06-16T17:03:01.548559",
     "status": "completed"
    },
    "tags": []
   },
   "outputs": [
    {
     "data": {
      "text/html": [
       "<div>\n",
       "<style scoped>\n",
       "    .dataframe tbody tr th:only-of-type {\n",
       "        vertical-align: middle;\n",
       "    }\n",
       "\n",
       "    .dataframe tbody tr th {\n",
       "        vertical-align: top;\n",
       "    }\n",
       "\n",
       "    .dataframe thead th {\n",
       "        text-align: right;\n",
       "    }\n",
       "</style>\n",
       "<table border=\"1\" class=\"dataframe\">\n",
       "  <thead>\n",
       "    <tr style=\"text-align: right;\">\n",
       "      <th></th>\n",
       "      <th>ID</th>\n",
       "      <th>prediction</th>\n",
       "    </tr>\n",
       "  </thead>\n",
       "  <tbody>\n",
       "    <tr>\n",
       "      <th>0</th>\n",
       "      <td>1</td>\n",
       "      <td>0.205636</td>\n",
       "    </tr>\n",
       "    <tr>\n",
       "      <th>1</th>\n",
       "      <td>2</td>\n",
       "      <td>0.017193</td>\n",
       "    </tr>\n",
       "    <tr>\n",
       "      <th>2</th>\n",
       "      <td>3</td>\n",
       "      <td>0.194899</td>\n",
       "    </tr>\n",
       "    <tr>\n",
       "      <th>3</th>\n",
       "      <td>4</td>\n",
       "      <td>0.033934</td>\n",
       "    </tr>\n",
       "    <tr>\n",
       "      <th>4</th>\n",
       "      <td>5</td>\n",
       "      <td>0.127066</td>\n",
       "    </tr>\n",
       "  </tbody>\n",
       "</table>\n",
       "</div>"
      ],
      "text/plain": [
       "   ID  prediction\n",
       "0   1    0.205636\n",
       "1   2    0.017193\n",
       "2   3    0.194899\n",
       "3   4    0.033934\n",
       "4   5    0.127066"
      ]
     },
     "execution_count": 8,
     "metadata": {},
     "output_type": "execute_result"
    }
   ],
   "source": [
    "sample[\"prediction\"] = test_preds\n",
    "sample.to_csv(\"../data/preds/test_xgboost.csv\", index=False)\n",
    "sample.head()"
   ]
  }
 ],
 "metadata": {
  "kaggle": {
   "accelerator": "nvidiaTeslaT4",
   "dataSources": [
    {
     "databundleVersionId": 11418275,
     "sourceId": 96164,
     "sourceType": "competition"
    }
   ],
   "dockerImageVersionId": 31041,
   "isGpuEnabled": true,
   "isInternetEnabled": true,
   "language": "python",
   "sourceType": "notebook"
  },
  "kernelspec": {
   "display_name": ".venv",
   "language": "python",
   "name": "python3"
  },
  "language_info": {
   "codemirror_mode": {
    "name": "ipython",
    "version": 3
   },
   "file_extension": ".py",
   "mimetype": "text/x-python",
   "name": "python",
   "nbconvert_exporter": "python",
   "pygments_lexer": "ipython3",
   "version": "3.12.3"
  },
  "papermill": {
   "default_parameters": {},
   "duration": 195.460014,
   "end_time": "2025-06-16T17:03:06.220008",
   "environment_variables": {},
   "exception": null,
   "input_path": "__notebook__.ipynb",
   "output_path": "__notebook__.ipynb",
   "parameters": {},
   "start_time": "2025-06-16T16:59:50.759994",
   "version": "2.6.0"
  }
 },
 "nbformat": 4,
 "nbformat_minor": 5
}
